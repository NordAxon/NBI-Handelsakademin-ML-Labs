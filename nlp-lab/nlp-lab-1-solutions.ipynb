{
  "cells": [
    {
      "attachments": {},
      "cell_type": "markdown",
      "metadata": {
        "id": "nqjP4gTNRdCI"
      },
      "source": [
        "# LAB 1 - NLP - Solutions\n",
        "Start by running the cell below to install the required packages"
      ]
    },
    {
      "cell_type": "code",
      "execution_count": null,
      "metadata": {
        "id": "3ueqZADZRdCO"
      },
      "outputs": [],
      "source": [
        "!pip install numpy gensim pandas matplotlib scikit-learn"
      ]
    },
    {
      "attachments": {},
      "cell_type": "markdown",
      "metadata": {
        "id": "YKXEq4iIRdCP"
      },
      "source": [
        "# 1. Tokenizers\n",
        "\n",
        "### <ins>BACKGROUND</ins> \n",
        "\n",
        "Tokenizers split a text into a sequence of tokens. There are different ways of doing this but an intuitive first step towards a good tokenizer is one that simply splits a text into it's constituent words. You will first construct such a tokenizer and then build a better one.\n",
        "\n",
        "### <ins>EXERCISE 1</ins> \n",
        "\n",
        "#### TODO: \n",
        "- Implement a simple tokenizer that can tokenize by splitting a text on whitespaces. \n",
        "- Test it on a sample text"
      ]
    },
    {
      "cell_type": "code",
      "execution_count": 2,
      "metadata": {
        "id": "cfJyr2H5RdCQ"
      },
      "outputs": [],
      "source": [
        "def simpletokenizer(text):\n",
        "    \"Split the text on whitespaces\"\n",
        "    tokens = text.split(\" \")\n",
        "    return tokens"
      ]
    },
    {
      "attachments": {},
      "cell_type": "markdown",
      "metadata": {
        "id": "Q83hiRmhRdCR"
      },
      "source": [
        "### Test your tokenizer on this text\n",
        "\n",
        "Now we would like to test our function `simpletokenizer` on some text. Our sample text consists of the first three paragraphs from the book [Bannlyst by Selma Lagerlöf](http://runeberg.org/bannlyst/0003.html).\n",
        "\n",
        "Run the cell below!"
      ]
    },
    {
      "cell_type": "code",
      "execution_count": null,
      "metadata": {
        "id": "RrDojFLJRdCR"
      },
      "outputs": [],
      "source": [
        "text = \"\"\"På Grimön i den västra skärgården bodde för några år sedan en man och en hustru, som voro varandra mycket olika. \n",
        "Mannen, som var omkring femton år äldre än hustrun, hade aldrig varit annat än ful, trög och senfärdig och hade inte blivit bättre på gamla dar, hustrun åter hade alltid varit nätt och lätt, och hennes lilla vackra ansikte hade bibehållit sig så väl, att hon såg närapå lika bra ut vid femtio som vid tjugu. \n",
        "Dessa två makar sutto en vacker söndagskväll på en stor stenhäll, som stack upp ur marken alldeles utanför deras hus, och samspråkade i god ro. Mannen, som tyckte om att höra sin egen röst och lade sina ord väl, utbredde sig för hustrun över en artikel, som han just nyss hade läst i en tidning.\n",
        "Hustrun hörde på honom med inte alltför spänd uppmärksamhet. Ack, den Joel, den Joel, tänkte hon, att han kan få ut så mycken lärdom ur ett sådant där tidningsblad! Han har verkligen ett märkvärdigt gott huvud. Det är bara synd, att han inte är i stånd att göra något bruk av det för sin och min räkning, utan bara för andras.\"\"\"\n",
        "\n",
        "\n",
        "simpletokenizer(text)"
      ]
    },
    {
      "attachments": {},
      "cell_type": "markdown",
      "metadata": {
        "id": "FfGWyQdaRdCS"
      },
      "source": [
        "### What do you see?\n",
        "You should see a python list of words. If you look closely, you'll see there are some items in the list that aren't just one word. There are also special characters in some that we probably want to remove.\n",
        "\n",
        "#### Questions\n",
        "\n",
        "- What special characters are left, that we would like to remove?\n",
        "- What does `\\n` mean?\n",
        "\n",
        "Tip: Remember that you can search the web if you don't know the answer!\n",
        "\n",
        "### Next steps\n",
        "\n",
        "We now have two options to improve our tokenizer function:\n",
        "- **A**. create a function `better_tokenizer` that handles the special characters and other special cases that you find\n",
        "- **B**. use regex to create a function `regextokenizer`\n",
        "\n",
        "**Option A** is a good exercise for practicing your skills with strings, lists and loops.\n",
        "\n",
        "**Option B** is good for practicing regex. Even if you find it intimidating, at least try to read one of the linked tutorials to get a feeling for what it can do. There is always more things to learn, this is just one of many!"
      ]
    },
    {
      "attachments": {},
      "cell_type": "markdown",
      "metadata": {},
      "source": [
        "### <ins>EXERCISE 2A - Strings, lists, and loops! </ins>\n",
        "\n",
        "We can clean up the word list by looping through it and remove punctuation, new line characters and other things we have found that should be removed.\n",
        "\n",
        "#### TODO: \n",
        "- Implement a tokenizer that tokenizes and removes all special characters\n",
        "    - How do you handle new line characters?\n",
        "    - How do you handle multiple words in one string?\n",
        "    - How do you handle punctuation?\n",
        "    - Tip: go through [this list of string methods](https://www.w3schools.com/python/python_ref_string.asp) you can apply to all strings to see if any of them look useful\n",
        "    - Tip: check out Python's [list methods](https://www.w3schools.com/python/python_ref_list.asp) to get clues on how to specify where in a list you want to put new elements\n",
        "- Run the test (you can find it in a cell further below) to see that it works properly"
      ]
    },
    {
      "cell_type": "code",
      "execution_count": null,
      "metadata": {},
      "outputs": [],
      "source": [
        "def better_tokenizer(text):\n",
        "    \"\"\" This function should return a list of only words, without any special characters. \"\"\"\n",
        "\n",
        "    string_list = text.split(\" \")\n",
        "\n",
        "    # write your code here\n",
        "    # what do you want to do for each string in the string_list?\n",
        "\n",
        "    tokens = []\n",
        "\n",
        "    for string in string_list:\n",
        "        \n",
        "        if string.startswith(\"\\n\"):  # new line character\n",
        "            string = string[2:]\n",
        "\n",
        "        # handle multiple words\n",
        "        new_line_index = string.find(\"\\n\")\n",
        "        if new_line_index != -1:\n",
        "            left_word = string[:new_line_index]\n",
        "            right_word = string[new_line_index + 2:]\n",
        "\n",
        "            single_word = False\n",
        "        else:\n",
        "            single_word = True\n",
        "        \n",
        "        if single_word:\n",
        "            string = string.strip(\",.!?\")  # punctuation\n",
        "            tokens.append(string)\n",
        "        else:\n",
        "            left_word = left_word.strip(\",.!?\")  # punctuation\n",
        "            right_word = right_word.strip(\",.!?\")  # punctuation\n",
        "\n",
        "            tokens.append(left_word)\n",
        "            tokens.append(right_word)\n",
        "\n",
        "    return tokens"
      ]
    },
    {
      "cell_type": "code",
      "execution_count": null,
      "metadata": {},
      "outputs": [],
      "source": [
        "better_tokenizer(text)"
      ]
    },
    {
      "attachments": {},
      "cell_type": "markdown",
      "metadata": {
        "id": "eb2r6uBUf8xq"
      },
      "source": [
        "### <ins>EXERCISE 2B - Regex </ins>\n",
        "\n",
        "#### What is regex?\n",
        "\n",
        "Regex is a very powerful tool to manipulate text in many different ways. \n",
        "\n",
        "More technically, regex is a pattern matcher. The Python module `re` contains many functions for regex, and using the `re` module looks like\n",
        "\n",
        "    re.function(regex, text)\n",
        "\n",
        "where regex is the regular expression and text the string you want to search for the pattern in. When using regexes in python, it's important to tell python that the regex is a 'raw string' by putting an 'r' before the string like this regex for finding sequences of whitespaces in text:\n",
        "\n",
        "    r'\\s+'\n",
        "\n",
        "**However!** regex can be confusing. Please do go through one of the tutorials, either the one on RealPython or Regexone. \n",
        "\n",
        "Regex is valuable to be aware of, so even if you do not use it here, now you know it exists and is something you can come back to in the future!\n",
        "\n",
        "#### TODO: \n",
        "- Implement a tokenizer that tokenizes and removes all special characters with the python regex module 're'\n",
        "    - Doc at: https://docs.python.org/3/howto/regex.html\n",
        "    - Python Docs can be hard to follow, here is a more gentle introduction: https://realpython.com/regex-python/\n",
        "    - Interactive course on regex: https://regexone.com/\n",
        "    - Try regular expressions at https://regex101.com/  (make sure to select python in the list to the left)\n",
        "    - Tip: There are different regexes that will solve the problem\n",
        "    - Tip: a word can be described as the letters between two word boundaries\n",
        "    - Tip: chatGPT is not great at regex, it often suggests very complicated solutions that do not give you the result you want\n",
        "- Run the test (you can find it in a cell further below) to see that it works properly"
      ]
    },
    {
      "cell_type": "code",
      "execution_count": null,
      "metadata": {},
      "outputs": [],
      "source": [
        "import re\n",
        "def regextokenizer(text):\n",
        "    \"\"\"This function should return a list of only words, without any special characters. \n",
        "    Fill in your regex pattern in the findall method\"\"\"\n",
        "    \n",
        "    regex_pattern = r'\\b\\S+\\b' # Write your regex pattern here, e.g. r'[a-z]+'\n",
        "    \n",
        "    return re.findall(regex_pattern, text)\n",
        "    "
      ]
    },
    {
      "cell_type": "code",
      "execution_count": null,
      "metadata": {},
      "outputs": [],
      "source": [
        "regextokenizer(text)"
      ]
    },
    {
      "attachments": {},
      "cell_type": "markdown",
      "metadata": {
        "id": "VBH42H4LRdCU"
      },
      "source": [
        "### Test your improved tokenizer!\n",
        "When you are done with your regextokenizer, run the cell below to check that it works properly\n",
        "\n",
        "**NOTE** This test can be used for either the regex tokenizer or the \"better\" tokenizer!"
      ]
    },
    {
      "cell_type": "code",
      "execution_count": 8,
      "metadata": {
        "colab": {
          "base_uri": "https://localhost:8080/"
        },
        "id": "YOAPpj6vRdCU",
        "outputId": "90b5c3ae-30a8-41b5-ee5b-038569bcf78b"
      },
      "outputs": [
        {
          "name": "stdout",
          "output_type": "stream",
          "text": [
            "Your tokens have no special characters left!\n"
          ]
        }
      ],
      "source": [
        "def test_tokenizer(tokens):\n",
        "    assert isinstance(tokens, list), 'did not receive a list of tokens'\n",
        "    assert len(tokens) != 0, 'received empty list'\n",
        "    assert sum(len(x) for x in tokens) != len(tokens), 'Looks like all your tokens are single characters'\n",
        "    passed = 1\n",
        "    if any([',' in token for token in tokens]):\n",
        "        print('There are commas in your tokens. Make sure they are removed')\n",
        "        passed = 0\n",
        "    if any(['!' in token for token in tokens]):\n",
        "        print('There are excalmation points in your tokens. Make sure they are removed')\n",
        "        passed = 0\n",
        "    if any(['?' in token for token in tokens]):\n",
        "        print('There are question marks in your tokens. Make sure they are removed')\n",
        "        passed = 0\n",
        "    if any(['.' in token for token in tokens]):\n",
        "        print('There are periods in your tokens. Make sure they are removed')\n",
        "        passed = 0\n",
        "    if any(['\\n' in token for token in tokens]):\n",
        "        print(r'There are newlines(\\n) in your tokens. Make sure they are removed')\n",
        "        passed = 0\n",
        "    if any([char.isupper() for token in tokens for char in token]):\n",
        "        print(r'There are upper case letters in your tokens. Make sure they are set to lower')\n",
        "        passed = 0\n",
        "    else:\n",
        "        print('Your tokens have no special characters left!')\n",
        "    return\n",
        "\n",
        "\n",
        "# change below to the tokenizer function you want to test\n",
        "tokens = regextokenizer(text)\n",
        "# tokens = better_tokenizer(text)\n",
        "\n",
        "test_tokenizer(tokens)"
      ]
    },
    {
      "attachments": {},
      "cell_type": "markdown",
      "metadata": {
        "id": "iOFg4-JeRdCV"
      },
      "source": [
        "# 1. TF-IDF \n",
        "\n",
        "\n",
        "### <ins> BACKGROUND </ins>\n",
        "\n",
        "The TF-IDF or \"Term frequency inverse document frequency\" is a measure of how important a certain word is to a certain text. It can for example be used in a search engine to find documents/webpages that are relevant to your query.\n",
        "\n",
        "You can read more about TF-IDF\n",
        "- https://monkeylearn.com/blog/what-is-tf-idf/\n",
        "- https://en.wikipedia.org/wiki/Tf%E2%80%93idf\n",
        "\n",
        "Quick explanation:\n",
        "\n",
        "Term Frequency (TF) means how common a certain term (word) is in a single document. A document could be anything from a single page of text, to one whole book as in our case below.\n",
        "\n",
        "Inverse Document Frequency (IDF) means how common a certain term (word) is across many documents (or many books).\n",
        "\n",
        "In mathematical terms, we can write this in Python pseudo code as:\n",
        "\n",
        "- TF[word] = nbr_occurances[word] / nbr_words_in_text\n",
        "- IDF[word] = log10 (nbr_documents / nbr_documents_that_contain_word)\n",
        "- TF-IDF[word]: TF[word] * IDF[word] \n",
        "\n",
        "Note we use the logarithm for IDF, which in practice means we that if a word is very common and can be found in most or even all our documents, then IDF will be close to 0. If the word is uncommon/rare, then IDF will be closer to 1.\n",
        "\n",
        "#### TODO:\n",
        "\n",
        "- Read texts by selma lagerlöf by running the cell below"
      ]
    },
    {
      "cell_type": "code",
      "execution_count": null,
      "metadata": {
        "id": "sNvYWyz2RdCW"
      },
      "outputs": [],
      "source": [
        "!git clone https://github.com/NordAxon/NBI-Handelsakademin-ML-Labs\n",
        "\n",
        "from pathlib import Path\n",
        "\n",
        "print(\"Starting to read books...\")\n",
        "\n",
        "selma_dir = Path('/content/NBI-Handelsakademin-ML-Labs/nlp-lab/data/selma_lagerlof')\n",
        "files = [file for file in selma_dir.iterdir() if file.suffix == '.txt']\n",
        "texts = {}\n",
        "for file in files:\n",
        "    with open(file,'r', encoding=\"utf8\") as f:\n",
        "        text = f.read()\n",
        "        texts[file.stem] = text\n",
        "\n",
        "print('Read books:')\n",
        "for title in texts.keys():\n",
        "    print(' ', title)"
      ]
    },
    {
      "attachments": {},
      "cell_type": "markdown",
      "metadata": {
        "id": "s0xVUH1eRdCW"
      },
      "source": [
        "### <ins> EXERCISE </ins>\n",
        "\n",
        "\n",
        "You now have a dictionary where the book title maps to the text. Now you have to calculate the Term Frequency (TF) and Inverse Document Frequency (IDF).\n",
        "\n",
        "\n",
        "#### TODO:\n",
        "- implement the function term_frequency()\n",
        "    - You need to standardize and tokenize the text.\n",
        "    - The function should return a dict like object, with the words of the text as keys, and their frequency in the text as values\n",
        "    - Tip: You can read more about how to use Counter here: https://realpython.com/python-counter/#getting-started-with-pythons-counter\n",
        "    - Tip: It is possible to write this function without using Counter, but it may be very slow so it is not recommended"
      ]
    },
    {
      "cell_type": "code",
      "execution_count": 12,
      "metadata": {
        "id": "_-7v-YnFRdCW"
      },
      "outputs": [],
      "source": [
        "from collections import Counter\n",
        "\n",
        "def term_frequency(text):\n",
        "    \"\"\"Tokenizes text and returns a dictionary like object tf_dict[word].\n",
        "    \n",
        "    Example:\n",
        "        input:\n",
        "            text = han hade det fint i sitt rum\n",
        "        output:\n",
        "            tf_dict = {\n",
        "                'han': 0.14285714285714285,\n",
        "                'hade': 0.14285714285714285,\n",
        "                'det': 0.14285714285714285,\n",
        "                'fint': 0.14285714285714285,\n",
        "                'i': 0.14285714285714285,\n",
        "                'sitt': 0.14285714285714285,\n",
        "                'rum': 0.14285714285714285}\n",
        "    \"\"\"\n",
        "    # Write your code below. Hint: Use your tokenizer from before \n",
        "    text = text.lower()\n",
        "    word_list = regextokenizer(text)\n",
        "    tf_dict = Counter(word_list)\n",
        "\n",
        "    number_of_words = len(word_list)\n",
        "    for word, word_count in tf_dict.items():\n",
        "        tf_dict[word] = word_count / number_of_words\n",
        "\n",
        "    return dict(tf_dict)"
      ]
    },
    {
      "cell_type": "code",
      "execution_count": 13,
      "metadata": {
        "colab": {
          "base_uri": "https://localhost:8080/"
        },
        "id": "l8K0sbzwspJ0",
        "outputId": "57604473-0584-4e95-ce81-44203755d096"
      },
      "outputs": [
        {
          "data": {
            "text/plain": [
              "Counter({'han': 1,\n",
              "         'hade': 1,\n",
              "         'det': 1,\n",
              "         'Fint': 1,\n",
              "         'i': 1,\n",
              "         'Sitt': 1,\n",
              "         'rum': 1})"
            ]
          },
          "execution_count": 13,
          "metadata": {},
          "output_type": "execute_result"
        }
      ],
      "source": [
        "text = \"han,   hade \\n det Fint i   Sitt . rum\"\n",
        "text = text.lower()\n",
        "word_list = regextokenizer(text)\n",
        "Counter(word_list)"
      ]
    },
    {
      "cell_type": "code",
      "execution_count": 14,
      "metadata": {
        "colab": {
          "base_uri": "https://localhost:8080/"
        },
        "id": "vNuclG8wtHfD",
        "outputId": "d4b0f084-6a08-4a94-ddf9-65184ddedacf"
      },
      "outputs": [
        {
          "data": {
            "text/plain": [
              "{'han': 0.14285714285714285,\n",
              " 'hade': 0.14285714285714285,\n",
              " 'det': 0.14285714285714285,\n",
              " 'fint': 0.14285714285714285,\n",
              " 'i': 0.14285714285714285,\n",
              " 'sitt': 0.14285714285714285,\n",
              " 'rum': 0.14285714285714285}"
            ]
          },
          "execution_count": 14,
          "metadata": {},
          "output_type": "execute_result"
        }
      ],
      "source": [
        "term_frequency(text)"
      ]
    },
    {
      "attachments": {},
      "cell_type": "markdown",
      "metadata": {
        "id": "_LRX971FRdCX"
      },
      "source": [
        "#### Run the cell below to create a master tf for all the books"
      ]
    },
    {
      "cell_type": "code",
      "execution_count": 15,
      "metadata": {
        "id": "uX96DHuORdCX"
      },
      "outputs": [],
      "source": [
        "def term_frequency_all_texts(texts):\n",
        "    \"Returns a nested dictionary where master_tf['title'] returns the term frequency dictionary for the book 'title'\"\n",
        "    master_tf = {}\n",
        "    for title, text in texts.items():\n",
        "        master_tf[title] = term_frequency(text)\n",
        "    \n",
        "    return master_tf\n",
        "\n",
        "master_tf = term_frequency_all_texts(texts)"
      ]
    },
    {
      "cell_type": "code",
      "execution_count": null,
      "metadata": {
        "id": "LooAHiKm3XjF"
      },
      "outputs": [],
      "source": [
        "# check if the structure of our master_tf is what we expect\n",
        "# before you run this cell, ask yourself what you expect to see\n",
        "# should it be a list? a dictionary? a dictionary with dictionaries?\n",
        "master_tf"
      ]
    },
    {
      "attachments": {},
      "cell_type": "markdown",
      "metadata": {
        "id": "Oy4vBnAiRdCX"
      },
      "source": [
        "### Try out your tf \n",
        "\n",
        "Access the term frequency of a word in a book with \n",
        "\n",
        "    master_tf['title']['word']\n",
        "\n",
        "If it works correctly, the term frequency of 'nils' in 'nils' should be  0.0003979"
      ]
    },
    {
      "cell_type": "code",
      "execution_count": 17,
      "metadata": {
        "colab": {
          "base_uri": "https://localhost:8080/"
        },
        "id": "gAByf4vPRdCY",
        "outputId": "66bdcf89-04d3-482d-cca6-a3f7bfc91503"
      },
      "outputs": [
        {
          "data": {
            "text/plain": [
              "0.0003979347689207908"
            ]
          },
          "execution_count": 17,
          "metadata": {},
          "output_type": "execute_result"
        }
      ],
      "source": [
        "master_tf['nils']['nils']\n",
        "        "
      ]
    },
    {
      "attachments": {},
      "cell_type": "markdown",
      "metadata": {},
      "source": [
        "What does it mean to get 'nils' from 'nils'?\n",
        "- We are asking how common is the word 'nils' in the book 'nils'"
      ]
    },
    {
      "attachments": {},
      "cell_type": "markdown",
      "metadata": {
        "id": "7SOOEm_ERdCY"
      },
      "source": [
        "### IDF\n",
        "\n",
        "To create the IDF (Inverse Document Frequency) you need to know in how many documents a certain word exists. The IDF is then calculated as \n",
        "\n",
        "    IDF(word) = log10 (nbr_documents / nbr_documents_that_contain_word)\n",
        "\n",
        "**Note:** nbr_documents is short for number of documents, or \"antal dokument\" in Swedish.\n",
        "\n",
        "#### TODO:\n",
        "- Complete the function `make_inverse_document_frequency()`\n"
      ]
    },
    {
      "cell_type": "code",
      "execution_count": 18,
      "metadata": {
        "id": "R0fgtH17RdCY"
      },
      "outputs": [],
      "source": [
        "from numpy import log10\n",
        "\n",
        "def make_inverse_document_frequency(master_tf):\n",
        "    word_in_nbr_docs = {} # vocabulary of words\n",
        "    number_of_documents = len(master_tf)\n",
        "    \n",
        "    # master_tf contains all the words from all the individual documents\n",
        "    for book_title, tf_dict in master_tf.items():\n",
        "        \n",
        "        for word in tf_dict.keys():\n",
        "        # We add the word to the vocabulary\n",
        "            try:\n",
        "                word_in_nbr_docs[word] += 1\n",
        "            except KeyError:\n",
        "                word_in_nbr_docs[word] = 1\n",
        "    \n",
        "    # word -> idf\n",
        "    word_to_idf = {}\n",
        "    \n",
        "    for word, counts in word_in_nbr_docs.items():\n",
        "        # Calculate the idf \n",
        "        # word_to_idf[word] = None # Insert your code here\n",
        "        word_to_idf[word] = log10(number_of_documents / counts)\n",
        "        \n",
        "    return word_to_idf   \n",
        "\n",
        "idf = make_inverse_document_frequency(master_tf)"
      ]
    },
    {
      "cell_type": "code",
      "execution_count": null,
      "metadata": {
        "id": "ZeVcieOV3b1Y"
      },
      "outputs": [],
      "source": [
        "# check if the structure of our idf is what we expect\n",
        "# before you run this cell, ask yourself what you expect to see\n",
        "# should it be a list? a dictionary? a dictionary with dictionaries?\n",
        "idf"
      ]
    },
    {
      "attachments": {},
      "cell_type": "markdown",
      "metadata": {
        "id": "C9EbMdcwRdCY"
      },
      "source": [
        "### Try out your IDF\n",
        "\n",
        "If it works properly, idf['nils'] should be ~0.2553"
      ]
    },
    {
      "cell_type": "code",
      "execution_count": 20,
      "metadata": {
        "colab": {
          "base_uri": "https://localhost:8080/"
        },
        "id": "sG04vxfMRdCZ",
        "outputId": "d73326f9-da1e-408c-c82a-fa9243e1be22"
      },
      "outputs": [
        {
          "data": {
            "text/plain": [
              "0.25527250510330607"
            ]
          },
          "execution_count": 20,
          "metadata": {},
          "output_type": "execute_result"
        }
      ],
      "source": [
        "# idf['ord']\n",
        "idf[\"nils\"]"
      ]
    },
    {
      "attachments": {},
      "cell_type": "markdown",
      "metadata": {
        "id": "Fn5Iy-qvRdCZ"
      },
      "source": [
        "### Finally it's time to compute the TF-IDF from our TF and IDF values\n",
        "\n",
        "We want a nested dictionary so we can look up the TF-IDF for a certain word as `tf_idf[text][word]`\n",
        "\n",
        "#### TODO:\n",
        "- implement make_tf_idf()\n",
        "\n",
        "Hints:\n",
        "- Recall that `TF-IDF[word] = TF[word] * IDF[word]`\n",
        "- It should have the same structure as the master_tf object. \n",
        "- You can iterate through the object and update the values\n"
      ]
    },
    {
      "cell_type": "code",
      "execution_count": 21,
      "metadata": {
        "id": "uE0e1G2zRdCZ"
      },
      "outputs": [],
      "source": [
        "from copy import deepcopy\n",
        "\n",
        "def make_tf_idf(master_tf, idf):\n",
        "    \n",
        "    # Use if you want. You need to go through the tfidf and update all the values\n",
        "    tf_idf = deepcopy(master_tf)\n",
        "    \n",
        "    # Fill in your code here  \n",
        "    for book_title, tf_dict in tf_idf.items():\n",
        "        for word, term_frequency in tf_dict.items():\n",
        "            tf_idf[book_title][word] = term_frequency * idf[word]\n",
        "    \n",
        "    return tf_idf\n",
        "\n",
        "tf_idf = make_tf_idf(master_tf, idf)"
      ]
    },
    {
      "cell_type": "code",
      "execution_count": null,
      "metadata": {
        "id": "PauD4fX02sjl"
      },
      "outputs": [],
      "source": [
        "# check if the structure of our tf_idf is what we expect\n",
        "# before you run this cell, ask yourself what you expect to see\n",
        "# should it be a list? a dictionary? a dictionary with dictionaries?\n",
        "tf_idf"
      ]
    },
    {
      "attachments": {},
      "cell_type": "markdown",
      "metadata": {
        "id": "b5GrIXDHRdCZ"
      },
      "source": [
        "## Testing your TF-IDF\n",
        "\n",
        "You now have a TF-IDF table that you can use to get values from different texts. Use it to compare the values of different words between the different texts.\n",
        "\n",
        "\n",
        "#### TODO:\n",
        "- Look at some tfidf values. What conclusions can you draw from your results?\n",
        "    Here's a list of words you can try:\n",
        "    + nils\n",
        "    + och\n",
        "    + värmland\n",
        "    + troll\n",
        "    + pojke\n",
        "- Use the function k_most_specific_words to get a list of the words with the largest tfidf values for the different texts\n",
        "\n",
        "    \n"
      ]
    },
    {
      "cell_type": "code",
      "execution_count": 23,
      "metadata": {
        "colab": {
          "base_uri": "https://localhost:8080/"
        },
        "id": "3dBF857u3p5X",
        "outputId": "d5fbe4a3-1e2f-4e72-cc52-1626b5997444"
      },
      "outputs": [
        {
          "data": {
            "text/plain": [
              "dict_keys(['nils', 'bannlyst', 'marbacka', 'gosta', 'osynliga', 'jerusalem', 'kejsaren', 'troll', 'herrgard'])"
            ]
          },
          "execution_count": 23,
          "metadata": {},
          "output_type": "execute_result"
        }
      ],
      "source": [
        "# what book titles do we have?\n",
        "tf_idf.keys()"
      ]
    },
    {
      "cell_type": "code",
      "execution_count": null,
      "metadata": {
        "id": "fTeu0UGS3yRN"
      },
      "outputs": [],
      "source": [
        "# look at specific words\n",
        "tf_idf[title][word]"
      ]
    },
    {
      "cell_type": "code",
      "execution_count": 25,
      "metadata": {
        "colab": {
          "base_uri": "https://localhost:8080/"
        },
        "id": "Ym3hduoy3lXt",
        "outputId": "e56d29c8-b706-4b01-fc93-6ea71d373a9a"
      },
      "outputs": [
        {
          "data": {
            "text/plain": [
              "0.0001015818053301155"
            ]
          },
          "execution_count": 25,
          "metadata": {},
          "output_type": "execute_result"
        }
      ],
      "source": [
        "tf_idf[\"nils\"][\"nils\"]"
      ]
    },
    {
      "cell_type": "code",
      "execution_count": 26,
      "metadata": {
        "colab": {
          "base_uri": "https://localhost:8080/"
        },
        "id": "8CUKk7iB3k5U",
        "outputId": "a63e1af0-2fb9-4d70-de61-b1654d334e92"
      },
      "outputs": [
        {
          "data": {
            "text/plain": [
              "0.0"
            ]
          },
          "execution_count": 26,
          "metadata": {},
          "output_type": "execute_result"
        }
      ],
      "source": [
        "tf_idf[\"nils\"][\"och\"]"
      ]
    },
    {
      "cell_type": "code",
      "execution_count": 27,
      "metadata": {
        "colab": {
          "base_uri": "https://localhost:8080/",
          "height": 165
        },
        "id": "wUwaS5Pb3k1O",
        "outputId": "9157b7a3-9885-4a9b-fc79-fb6b974f85ff"
      },
      "outputs": [
        {
          "ename": "KeyError",
          "evalue": "ignored",
          "output_type": "error",
          "traceback": [
            "\u001b[0;31m---------------------------------------------------------------------------\u001b[0m",
            "\u001b[0;31mKeyError\u001b[0m                                  Traceback (most recent call last)",
            "\u001b[0;32m<ipython-input-27-f367557a9f00>\u001b[0m in \u001b[0;36m<cell line: 1>\u001b[0;34m()\u001b[0m\n\u001b[0;32m----> 1\u001b[0;31m \u001b[0mtf_idf\u001b[0m\u001b[0;34m[\u001b[0m\u001b[0;34m\"gosta\"\u001b[0m\u001b[0;34m]\u001b[0m\u001b[0;34m[\u001b[0m\u001b[0;34m\"nils\"\u001b[0m\u001b[0;34m]\u001b[0m\u001b[0;34m\u001b[0m\u001b[0;34m\u001b[0m\u001b[0m\n\u001b[0m",
            "\u001b[0;31mKeyError\u001b[0m: 'nils'"
          ]
        }
      ],
      "source": [
        "tf_idf[\"gosta\"][\"nils\"]"
      ]
    },
    {
      "attachments": {},
      "cell_type": "markdown",
      "metadata": {},
      "source": [
        "**NOTE** when asking for `[\"gosta\"][\"nils\"]` we get KeyError if `tf_idf` is a regular dictionary. If `tf_idf` instead is a Counter object we will get 0. "
      ]
    },
    {
      "cell_type": "code",
      "execution_count": 28,
      "metadata": {
        "colab": {
          "base_uri": "https://localhost:8080/"
        },
        "id": "ifkiNRSZ3kpF",
        "outputId": "3a670e7b-6776-4d2c-ccb2-231d2cf6202c"
      },
      "outputs": [
        {
          "data": {
            "text/plain": [
              "6.918704062860637e-05"
            ]
          },
          "execution_count": 28,
          "metadata": {},
          "output_type": "execute_result"
        }
      ],
      "source": [
        "tf_idf[\"gosta\"][\"värmland\"]"
      ]
    },
    {
      "cell_type": "code",
      "execution_count": 29,
      "metadata": {
        "colab": {
          "base_uri": "https://localhost:8080/"
        },
        "id": "XimQlzy14E0p",
        "outputId": "ba9b9437-48b9-42bc-914f-64fbfc2aba44"
      },
      "outputs": [
        {
          "data": {
            "text/plain": [
              "1.4155579114445919e-06"
            ]
          },
          "execution_count": 29,
          "metadata": {},
          "output_type": "execute_result"
        }
      ],
      "source": [
        "tf_idf[\"jerusalem\"][\"troll\"]"
      ]
    },
    {
      "cell_type": "code",
      "execution_count": 30,
      "metadata": {
        "colab": {
          "base_uri": "https://localhost:8080/"
        },
        "id": "LBPcbYbB4M4z",
        "outputId": "d7325e77-2065-41e2-a545-63262c8487d3"
      },
      "outputs": [
        {
          "data": {
            "text/plain": [
              "1.1938695150284695e-05"
            ]
          },
          "execution_count": 30,
          "metadata": {},
          "output_type": "execute_result"
        }
      ],
      "source": [
        "tf_idf[\"troll\"][\"troll\"]"
      ]
    },
    {
      "cell_type": "code",
      "execution_count": 31,
      "metadata": {
        "colab": {
          "base_uri": "https://localhost:8080/"
        },
        "id": "TGQfNgMp4PtF",
        "outputId": "a0bcda1c-1fce-4251-b85c-543543775249"
      },
      "outputs": [
        {
          "data": {
            "text/plain": [
              "4.329455983697105e-06"
            ]
          },
          "execution_count": 31,
          "metadata": {},
          "output_type": "execute_result"
        }
      ],
      "source": [
        "tf_idf[\"osynliga\"][\"pojke\"]"
      ]
    },
    {
      "attachments": {},
      "cell_type": "markdown",
      "metadata": {
        "id": "5iusLuLfRdCa"
      },
      "source": [
        "#### TODO:\n",
        "\n",
        "- Find the words with the highest tfidf values in the texts. Do they make sense?"
      ]
    },
    {
      "cell_type": "code",
      "execution_count": 32,
      "metadata": {
        "id": "lkoX5dPpRdCa"
      },
      "outputs": [],
      "source": [
        "def k_most_specific_words(title, k):\n",
        "    c = Counter(tf_idf[title])\n",
        "    return c.most_common(k)"
      ]
    },
    {
      "cell_type": "code",
      "execution_count": 33,
      "metadata": {
        "colab": {
          "base_uri": "https://localhost:8080/"
        },
        "id": "S6jyI0jERdCa",
        "outputId": "b21cc294-41be-4207-802b-dbfaa78f48c2"
      },
      "outputs": [
        {
          "data": {
            "text/plain": [
              "[('gösta', 0.0023065985184732123),\n",
              " ('grevinnan', 0.0011532992592366061),\n",
              " ('berling', 0.0009610827160305051),\n",
              " ('av', 0.0009559100089808574),\n",
              " ('kavaljererna', 0.0008750911045961968),\n",
              " ('ekeby', 0.0007745309994395594),\n",
              " ('marianne', 0.0006525245808838692),\n",
              " ('majorskan', 0.0006281022588770182),\n",
              " ('över', 0.0004580930370182359),\n",
              " ('sintram', 0.0003894914164965731)]"
            ]
          },
          "execution_count": 33,
          "metadata": {},
          "output_type": "execute_result"
        }
      ],
      "source": [
        "k_most_specific_words('gosta', 10)"
      ]
    },
    {
      "cell_type": "code",
      "execution_count": 34,
      "metadata": {
        "colab": {
          "base_uri": "https://localhost:8080/"
        },
        "id": "RxKE3m_F4euJ",
        "outputId": "bf290ecc-e39a-48f7-83ff-d0b5e56e96a9"
      },
      "outputs": [
        {
          "data": {
            "text/plain": [
              "[('akka', 0.0013795119013176487),\n",
              " ('vildgässen', 0.0009805179655209793),\n",
              " ('pojken', 0.0008994158754940727),\n",
              " ('av', 0.0007911290341401485),\n",
              " ('karr', 0.000677739296466162),\n",
              " ('gåskarlen', 0.0005560655576276695),\n",
              " ('smirre', 0.0005431527695083426),\n",
              " ('tummetott', 0.0005287327844771477),\n",
              " ('klement', 0.0004229862275817181),\n",
              " ('örnen', 0.00041337290422758816)]"
            ]
          },
          "execution_count": 34,
          "metadata": {},
          "output_type": "execute_result"
        }
      ],
      "source": [
        "k_most_specific_words(\"nils\", 10)"
      ]
    },
    {
      "attachments": {},
      "cell_type": "markdown",
      "metadata": {
        "id": "PZJzW3gK4v8h"
      },
      "source": [
        "## Something to think about\n",
        "\n",
        "How would you use the concepts of TF, IDF, and TF-IDF to create, for example, a search engine?"
      ]
    },
    {
      "attachments": {},
      "cell_type": "markdown",
      "metadata": {
        "id": "lQ_Qo8jTRdCb"
      },
      "source": [
        "# 3. Word embeddings\n",
        "\n",
        "To become familiar with word embeddings we'll use the gensim library. We'll download pretrained word2vec embeddings trained on google news.\n",
        "\n",
        "The gensim library provides functions for playing around with the word embeddings such as comparing how similar two words are, listing the most similar words and more\n",
        "\n",
        "**TIP**: check the lecture slides for a refresher on what embeddings are!\n",
        "\n",
        "### <ins> EXERCISE </ins>\n",
        "\n",
        "##### TODO:\n",
        "- Play around with the different functions and get a feel for how you can query a word\n",
        "- When you run the below cell it will take 5-10 minutes to download, so here's your chance to take a short break!"
      ]
    },
    {
      "cell_type": "code",
      "execution_count": 76,
      "metadata": {
        "colab": {
          "base_uri": "https://localhost:8080/"
        },
        "id": "OqinyZo7RdCb",
        "outputId": "002695e4-2fdd-44b7-9d1c-2d98c5cf9bc6"
      },
      "outputs": [
        {
          "name": "stdout",
          "output_type": "stream",
          "text": [
            "[=================================================-] 100.0% 1662.8/1662.8MB downloaded\n"
          ]
        }
      ],
      "source": [
        "import gensim\n",
        "import gensim.downloader as api\n",
        "wv = api.load('word2vec-google-news-300') "
      ]
    },
    {
      "attachments": {},
      "cell_type": "markdown",
      "metadata": {
        "id": "qCClMqHiRdCb"
      },
      "source": [
        "### How similar are two words\n",
        "\n",
        "Which companies have the highest pairwise similarity according to the word embeddings: Google, Facebook, Apple and Microsoft? Compare them and see!\n",
        "\n",
        "Tip: use itertools to construct all of the combinations so you don't have to do it manually"
      ]
    },
    {
      "cell_type": "code",
      "execution_count": 80,
      "metadata": {
        "colab": {
          "base_uri": "https://localhost:8080/"
        },
        "id": "LhOf3LdMRdCb",
        "outputId": "7b23ae8b-7076-4c7b-dc89-8c6703262be2"
      },
      "outputs": [
        {
          "name": "stdout",
          "output_type": "stream",
          "text": [
            "Similarity between google and facebook is 0.5005902647972107\n"
          ]
        }
      ],
      "source": [
        "import itertools\n",
        "companies = ['google', 'facebook', 'microsoft', 'apple']\n",
        "combinations = None\n",
        "\n",
        "word1 = 'google'\n",
        "word2 = 'facebook'\n",
        "\n",
        "print(f'Similarity between {word1} and {word2} is {wv.similarity(word1,word2)}')"
      ]
    },
    {
      "cell_type": "code",
      "execution_count": 81,
      "metadata": {
        "colab": {
          "base_uri": "https://localhost:8080/"
        },
        "id": "1W1x2ufwE4Jl",
        "outputId": "53c70a64-8b30-440c-f25e-2e5e3a1095f9"
      },
      "outputs": [
        {
          "name": "stdout",
          "output_type": "stream",
          "text": [
            "Similarity between google and google is 1.0\n",
            "Similarity between google and facebook is 0.5005902647972107\n",
            "Similarity between google and microsoft is 0.3238288462162018\n",
            "Similarity between google and apple is 0.22774799168109894\n",
            "Similarity between facebook and google is 0.5005902647972107\n",
            "Similarity between facebook and facebook is 1.0\n",
            "Similarity between facebook and microsoft is 0.16725438833236694\n",
            "Similarity between facebook and apple is 0.0854484885931015\n",
            "Similarity between microsoft and google is 0.3238288462162018\n",
            "Similarity between microsoft and facebook is 0.16725438833236694\n",
            "Similarity between microsoft and microsoft is 1.0\n",
            "Similarity between microsoft and apple is 0.23841595649719238\n",
            "Similarity between apple and google is 0.22774799168109894\n",
            "Similarity between apple and facebook is 0.0854484885931015\n",
            "Similarity between apple and microsoft is 0.23841595649719238\n",
            "Similarity between apple and apple is 1.0\n"
          ]
        }
      ],
      "source": [
        "combinations = itertools.product(companies, companies)\n",
        "for word1, word2 in combinations:\n",
        "    print(f'Similarity between {word1} and {word2} is {wv.similarity(word1,word2)}')"
      ]
    },
    {
      "attachments": {},
      "cell_type": "markdown",
      "metadata": {
        "id": "2WvFpdgVRdCb"
      },
      "source": [
        "### List the most similar words\n",
        "\n",
        "We can query the most similar words to a certain word. Do you think they are reasonable?"
      ]
    },
    {
      "cell_type": "code",
      "execution_count": 82,
      "metadata": {
        "colab": {
          "base_uri": "https://localhost:8080/"
        },
        "id": "0-dj1H8VRdCb",
        "outputId": "3d118e50-20f0-4e3f-e215-b84dcba35a69"
      },
      "outputs": [
        {
          "data": {
            "text/plain": [
              "[('google.com', 0.6711485981941223),\n",
              " ('google_yahoo', 0.6488178968429565),\n",
              " ('wikipedia', 0.643608033657074),\n",
              " ('www.google.com', 0.6258559226989746),\n",
              " ('googled', 0.6166064143180847),\n",
              " ('googling', 0.6086059212684631),\n",
              " ('slashdot', 0.5964587330818176),\n",
              " ('lifehacker', 0.5948858857154846),\n",
              " ('gizmodo', 0.5884420275688171),\n",
              " ('inurl', 0.5882638692855835)]"
            ]
          },
          "execution_count": 82,
          "metadata": {},
          "output_type": "execute_result"
        }
      ],
      "source": [
        "word = 'google'\n",
        "wv.similar_by_word(word, topn=10)"
      ]
    },
    {
      "cell_type": "code",
      "execution_count": 83,
      "metadata": {
        "colab": {
          "base_uri": "https://localhost:8080/"
        },
        "id": "gsOH888PFYj9",
        "outputId": "9ae2651a-6953-4452-d347-4097605107fa"
      },
      "outputs": [
        {
          "data": {
            "text/plain": [
              "[('apples', 0.720359742641449),\n",
              " ('pear', 0.6450697183609009),\n",
              " ('fruit', 0.6410146355628967),\n",
              " ('berry', 0.6302295327186584),\n",
              " ('pears', 0.613396167755127),\n",
              " ('strawberry', 0.6058260798454285),\n",
              " ('peach', 0.6025872826576233),\n",
              " ('potato', 0.5960935354232788),\n",
              " ('grape', 0.5935863852500916),\n",
              " ('blueberry', 0.5866668224334717)]"
            ]
          },
          "execution_count": 83,
          "metadata": {},
          "output_type": "execute_result"
        }
      ],
      "source": [
        "word = \"apple\"\n",
        "wv.similar_by_word(word, topn=10)"
      ]
    },
    {
      "attachments": {},
      "cell_type": "markdown",
      "metadata": {
        "id": "jxpl6RF5RdCc"
      },
      "source": [
        "### Similar to X like Y to Z\n",
        "\n",
        "We can query that a word should be positively similar to certain words, but not similar to other words. \n",
        "\n",
        "We can use this to query an answer to the following question:\n",
        "\"A king is to a man what a woman is to a ...\"\n",
        "\n",
        "Can you find other examples where a word should be similar to certain words but not to other to find the answer you're looking for?"
      ]
    },
    {
      "cell_type": "code",
      "execution_count": 84,
      "metadata": {
        "colab": {
          "base_uri": "https://localhost:8080/"
        },
        "id": "h99OqipMRdCc",
        "outputId": "8f0c77db-893c-4cfc-fd20-c0e6c146a5d5"
      },
      "outputs": [
        {
          "data": {
            "text/plain": [
              "[('woman', 0.7609435319900513)]"
            ]
          },
          "execution_count": 84,
          "metadata": {},
          "output_type": "execute_result"
        }
      ],
      "source": [
        "wv.most_similar(positive=[\"man\", \"queen\"], negative=[\"king\"], topn=1)"
      ]
    },
    {
      "cell_type": "code",
      "execution_count": 92,
      "metadata": {
        "colab": {
          "base_uri": "https://localhost:8080/"
        },
        "id": "n392VUIBH-MU",
        "outputId": "69c5ec93-e53d-49ff-d1ed-c62c0813582e"
      },
      "outputs": [
        {
          "data": {
            "text/plain": [
              "[('woman', 0.7609435319900513), ('girl', 0.6139994263648987)]"
            ]
          },
          "execution_count": 92,
          "metadata": {},
          "output_type": "execute_result"
        }
      ],
      "source": [
        "wv.most_similar(positive=[\"man\", \"queen\"], negative=[\"king\"], topn=2)"
      ]
    },
    {
      "cell_type": "code",
      "execution_count": 90,
      "metadata": {
        "colab": {
          "base_uri": "https://localhost:8080/"
        },
        "id": "urohwPj2GycR",
        "outputId": "9e7d4ff3-6757-41ee-c471-29711980f5fd"
      },
      "outputs": [
        {
          "data": {
            "text/plain": [
              "[('monkeys', 0.4152124226093292)]"
            ]
          },
          "execution_count": 90,
          "metadata": {},
          "output_type": "execute_result"
        }
      ],
      "source": [
        "wv.most_similar(positive=[\"mouse\", \"banana\"], negative=[\"cheese\"], topn=1)"
      ]
    },
    {
      "cell_type": "code",
      "execution_count": 91,
      "metadata": {
        "colab": {
          "base_uri": "https://localhost:8080/"
        },
        "id": "m7D-eqp_HYPd",
        "outputId": "4b4974bd-160b-4625-bfec-4e159cac710b"
      },
      "outputs": [
        {
          "data": {
            "text/plain": [
              "[('monkeys', 0.4152124226093292), ('rhinoceros_beetle', 0.40751710534095764)]"
            ]
          },
          "execution_count": 91,
          "metadata": {},
          "output_type": "execute_result"
        }
      ],
      "source": [
        "wv.most_similar(positive=[\"mouse\", \"banana\"], negative=[\"cheese\"], topn=2)"
      ]
    },
    {
      "attachments": {},
      "cell_type": "markdown",
      "metadata": {
        "id": "hnK7hOXRRdCc"
      },
      "source": [
        "### You can also try to use basic linear math operators to construct a vector and check what word it is closest to"
      ]
    },
    {
      "cell_type": "code",
      "execution_count": 85,
      "metadata": {
        "colab": {
          "base_uri": "https://localhost:8080/"
        },
        "id": "tmxyqg3qRdCk",
        "outputId": "1c10f45c-bcc1-4caa-ac3f-254e52ef0905"
      },
      "outputs": [
        {
          "data": {
            "text/plain": [
              "[('tiger', 0.8426186442375183),\n",
              " ('tigers', 0.6714946031570435),\n",
              " ('dog', 0.574916660785675),\n",
              " ('elephants', 0.5681688785552979),\n",
              " ('elephant', 0.5566478371620178)]"
            ]
          },
          "execution_count": 85,
          "metadata": {},
          "output_type": "execute_result"
        }
      ],
      "source": [
        "new_word = wv['tiger'] - wv['cat'] + wv['dog']\n",
        "wv.most_similar(positive=[new_word], topn=5)"
      ]
    },
    {
      "attachments": {},
      "cell_type": "markdown",
      "metadata": {
        "id": "cU588VWpRdCk"
      },
      "source": [
        "### Similar to X but not Y\n",
        "\n",
        "Some words are ambiguous - Apple can be both a tech company and a fruit. What if you want to find similar words to just the fruit? Or just the company? With the 'negative' argument you can specify a word you don't want it to be similar to.\n",
        "\n",
        "Can you find other examples of ambiguous words?"
      ]
    },
    {
      "cell_type": "code",
      "execution_count": 93,
      "metadata": {
        "colab": {
          "base_uri": "https://localhost:8080/"
        },
        "id": "wDvwTnAIRdCk",
        "outputId": "86b7b823-afb5-4057-f188-c513f4fad7ce"
      },
      "outputs": [
        {
          "data": {
            "text/plain": [
              "[('YOUNG_BLOOD', 0.31266674399375916),\n",
              " ('STAR_GAZING', 0.2859337627887726),\n",
              " ('bess', 0.2804725468158722),\n",
              " ('ulous', 0.28033408522605896),\n",
              " ('PATRICK_KANE', 0.2795514464378357),\n",
              " ('By_DOUG_HAIDET', 0.2792541980743408),\n",
              " ('martin_luther_king', 0.27754443883895874),\n",
              " ('harper', 0.2770758867263794),\n",
              " ('HOLDING_COURT', 0.27680718898773193),\n",
              " ('BANG_BANG_BANG', 0.2753763794898987)]"
            ]
          },
          "execution_count": 93,
          "metadata": {},
          "output_type": "execute_result"
        }
      ],
      "source": [
        "wv.most_similar(positive=[\"apple\"], negative=[\"fruit\", 'company'], topn=10)"
      ]
    },
    {
      "cell_type": "code",
      "execution_count": 94,
      "metadata": {
        "colab": {
          "base_uri": "https://localhost:8080/"
        },
        "id": "PmMC12PVJVFa",
        "outputId": "66a4123e-9c72-42f0-88bc-d6519ab5c331"
      },
      "outputs": [
        {
          "data": {
            "text/plain": [
              "[('apples', 0.4919757843017578),\n",
              " ('cherries', 0.46362555027008057),\n",
              " ('pear', 0.4579611122608185),\n",
              " ('fruit', 0.45654964447021484),\n",
              " ('pears', 0.44098925590515137),\n",
              " ('mango', 0.4378015100955963),\n",
              " ('peach', 0.43221598863601685),\n",
              " ('plums', 0.4271455407142639),\n",
              " ('pippin', 0.41679033637046814),\n",
              " ('scrumping', 0.41541150212287903)]"
            ]
          },
          "execution_count": 94,
          "metadata": {},
          "output_type": "execute_result"
        }
      ],
      "source": [
        "wv.most_similar(positive=[\"apple\"], negative=['company'], topn=10)"
      ]
    },
    {
      "cell_type": "code",
      "execution_count": 95,
      "metadata": {
        "colab": {
          "base_uri": "https://localhost:8080/"
        },
        "id": "_xLyCw8lJZqi",
        "outputId": "4991d7d8-5767-4c37-bc3b-b8e54e377ae8"
      },
      "outputs": [
        {
          "data": {
            "text/plain": [
              "[('Apple', 0.33312755823135376),\n",
              " ('Appleâ_€_™', 0.3215164244174957),\n",
              " ('Ipod', 0.31791260838508606),\n",
              " ('designer_Jonathan_Ive', 0.31394994258880615),\n",
              " ('ipod', 0.30566027760505676),\n",
              " ('ipod_nano', 0.30507150292396545),\n",
              " ('ipod_touch', 0.30397385358810425),\n",
              " ('i_Pod', 0.2960202395915985),\n",
              " ('asp', 0.2939453721046448),\n",
              " ('iPod', 0.2934533655643463)]"
            ]
          },
          "execution_count": 95,
          "metadata": {},
          "output_type": "execute_result"
        }
      ],
      "source": [
        "wv.most_similar(positive=[\"apple\"], negative=['fruit'], topn=10)"
      ]
    },
    {
      "attachments": {},
      "cell_type": "markdown",
      "metadata": {
        "id": "o-QaF-ljRdCl"
      },
      "source": [
        "### Find the odd one out"
      ]
    },
    {
      "cell_type": "code",
      "execution_count": 96,
      "metadata": {
        "colab": {
          "base_uri": "https://localhost:8080/"
        },
        "id": "JZ3L3btzRdCl",
        "outputId": "2f2527c7-937f-423e-b871-06d8365c023c"
      },
      "outputs": [
        {
          "name": "stdout",
          "output_type": "stream",
          "text": [
            "bear\n"
          ]
        }
      ],
      "source": [
        "words = \"apple pear fruit bear \" # Separate the words by a space\n",
        "print(wv.doesnt_match(words.split()))"
      ]
    },
    {
      "cell_type": "code",
      "execution_count": 115,
      "metadata": {
        "colab": {
          "base_uri": "https://localhost:8080/"
        },
        "id": "7UNyFgP6UKWz",
        "outputId": "d960e829-cf4d-4812-a07c-c081c3d8a77a"
      },
      "outputs": [
        {
          "name": "stdout",
          "output_type": "stream",
          "text": [
            "tarantula\n"
          ]
        }
      ],
      "source": [
        "words = \"bumblebee tarantula wasp ant\"\n",
        "print(wv.doesnt_match(words.split()))"
      ]
    },
    {
      "attachments": {},
      "cell_type": "markdown",
      "metadata": {
        "id": "azSjB0WSRdCl"
      },
      "source": [
        "## Plot embeddings\n",
        "\n",
        "The embeddings we've used have the dimension 300, i.e. every word is represented by 300 values. In a mathematical sense, they exist in an \"abstract room\" with 300 dimensions. It's in this room that we compare how similar words are by computing distances and angles between words.\n",
        "\n",
        "Obviously we can't visualise something in 300 dimensions. But there are mathematical tricks for reducing the dimensions that we can use to then plot the points in 2D(or 3D). Here we'll use an algorithm called TSNE to plot words similar to a target word.\n",
        "\n",
        "### <ins> EXERCISE </ins>\n",
        "\n",
        "#### TODO:\n",
        "\n",
        "- Choose a target word and plot the embeddings that are close to it\n",
        "\n",
        "\n",
        "#### Trivia\n",
        "\n",
        "In the call to the `TSNE` function below, notice it says `init='pca'`? \n",
        "\n",
        "PCA, or Principal Component Analysis, is a form of *unsupervised learning*. Remember what that is from the first lecture?\n",
        "\n",
        "That's right! Unsupervised learning automagically finds patterns in data. In this case, it can find the most important _two_ dimensions (`n_components` in the TSNE call) that contain the most information out of the full 300 dimensions. "
      ]
    },
    {
      "cell_type": "code",
      "execution_count": 116,
      "metadata": {
        "id": "Y4iZaY9qRdCl"
      },
      "outputs": [],
      "source": [
        "import pandas as pd\n",
        "import matplotlib\n",
        "import matplotlib.pyplot as plt\n",
        "import seaborn as sns\n",
        "sns.set_theme()\n",
        "\n",
        "from sklearn.manifold import TSNE\n",
        "\n",
        "\n",
        "\n",
        "target_word = \"mario\" # This will be the center of your embedding space\n",
        "\n",
        "\n",
        "selected_words = [w[0] for w in wv.most_similar(positive=[target_word], topn=50)] + [target_word]\n",
        "embeddings = [wv[w] for w in selected_words] + wv[target_word]\n",
        "\n",
        "mapped_embeddings = TSNE(n_components=2, metric='cosine', init='pca').fit_transform(embeddings)"
      ]
    },
    {
      "cell_type": "code",
      "execution_count": 117,
      "metadata": {
        "colab": {
          "base_uri": "https://localhost:8080/",
          "height": 835
        },
        "id": "nerxKeIRRdCl",
        "outputId": "45e0c2a3-8ad6-4e01-de70-6d692463df88"
      },
      "outputs": [
        {
          "data": {
            "image/png": "[encoded data removed]",
            "text/plain": [
              "<Figure size 1000x1000 with 1 Axes>"
            ]
          },
          "metadata": {},
          "output_type": "display_data"
        }
      ],
      "source": [
        "plt.figure(figsize=(10, 10))\n",
        "x = mapped_embeddings[:,0]\n",
        "y = mapped_embeddings[:,1]\n",
        "plt.scatter(x, y)\n",
        "\n",
        "for i, word in enumerate(selected_words):\n",
        "    if word == target_word:\n",
        "        plt.annotate(word, (x[i], y[i]), color=\"red\")\n",
        "    else:\n",
        "        plt.annotate(word, (x[i], y[i]))"
      ]
    },
    {
      "cell_type": "code",
      "execution_count": null,
      "metadata": {
        "id": "J3jTJyvURdCm"
      },
      "outputs": [],
      "source": []
    }
  ],
  "metadata": {
    "colab": {
      "provenance": []
    },
    "kernelspec": {
      "display_name": "Python 3",
      "name": "python3"
    },
    "language_info": {
      "name": "python"
    }
  },
  "nbformat": 4,
  "nbformat_minor": 0
}
