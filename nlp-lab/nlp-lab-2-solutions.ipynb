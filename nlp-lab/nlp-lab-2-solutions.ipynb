{
  "cells": [
    {
      "attachments": {},
      "cell_type": "markdown",
      "id": "chronic-customer",
      "metadata": {
        "id": "chronic-customer"
      },
      "source": [
        "# LAB 2 - TRANSFORMERS WITH HUGGINGFACE\n",
        "\n",
        "\n",
        "In this lab you'll get to try two of the most famous NLP transformers: BERT and GPT-2\n",
        "\n",
        "To download and use the models we will use huggingface transformers, a large platform for sharing transformer models. Check it out here https://huggingface.co/\n",
        "\n",
        "https://huggingface.co/docs/transformers/index\n",
        "https://huggingface.co/docs/transformers/quicktour\n",
        "\n",
        "In this lab we will:\n",
        "- Use DistilBERT to \n",
        "        - fill out missing words in sentences, \n",
        "        - extract features from texts\n",
        "- Use DistilGPT-2 to generate a story\n",
        "\n",
        "#### TODO\n",
        "- Make sure to choose a runtime with GPU in google colab: Runtime / Change runtime type / Select GPU\n",
        "- Install huggingface transformers by running the cell below"
      ]
    },
    {
      "cell_type": "code",
      "execution_count": 1,
      "id": "occasional-trinity",
      "metadata": {
        "colab": {
          "base_uri": "https://localhost:8080/"
        },
        "id": "occasional-trinity",
        "outputId": "11b99b3c-11e3-46c2-ffbe-3cdf7a3dead0"
      },
      "outputs": [
        {
          "name": "stdout",
          "output_type": "stream",
          "text": [
            "Looking in indexes: https://pypi.org/simple, https://us-python.pkg.dev/colab-wheels/public/simple/\n",
            "Collecting transformers\n",
            "  Downloading transformers-4.29.2-py3-none-any.whl (7.1 MB)\n",
            "\u001b[2K     \u001b[90m━━━━━━━━━━━━━━━━━━━━━━━━━━━━━━━━━━━━━━━━\u001b[0m \u001b[32m7.1/7.1 MB\u001b[0m \u001b[31m87.2 MB/s\u001b[0m eta \u001b[36m0:00:00\u001b[0m\n",
            "\u001b[?25hRequirement already satisfied: filelock in /usr/local/lib/python3.10/dist-packages (from transformers) (3.12.0)\n",
            "Collecting huggingface-hub<1.0,>=0.14.1 (from transformers)\n",
            "  Downloading huggingface_hub-0.15.1-py3-none-any.whl (236 kB)\n",
            "\u001b[2K     \u001b[90m━━━━━━━━━━━━━━━━━━━━━━━━━━━━━━━━━━━━━━\u001b[0m \u001b[32m236.8/236.8 kB\u001b[0m \u001b[31m28.8 MB/s\u001b[0m eta \u001b[36m0:00:00\u001b[0m\n",
            "\u001b[?25hRequirement already satisfied: numpy>=1.17 in /usr/local/lib/python3.10/dist-packages (from transformers) (1.22.4)\n",
            "Requirement already satisfied: packaging>=20.0 in /usr/local/lib/python3.10/dist-packages (from transformers) (23.1)\n",
            "Requirement already satisfied: pyyaml>=5.1 in /usr/local/lib/python3.10/dist-packages (from transformers) (6.0)\n",
            "Requirement already satisfied: regex!=2019.12.17 in /usr/local/lib/python3.10/dist-packages (from transformers) (2022.10.31)\n",
            "Requirement already satisfied: requests in /usr/local/lib/python3.10/dist-packages (from transformers) (2.27.1)\n",
            "Collecting tokenizers!=0.11.3,<0.14,>=0.11.1 (from transformers)\n",
            "  Downloading tokenizers-0.13.3-cp310-cp310-manylinux_2_17_x86_64.manylinux2014_x86_64.whl (7.8 MB)\n",
            "\u001b[2K     \u001b[90m━━━━━━━━━━━━━━━━━━━━━━━━━━━━━━━━━━━━━━━━\u001b[0m \u001b[32m7.8/7.8 MB\u001b[0m \u001b[31m95.7 MB/s\u001b[0m eta \u001b[36m0:00:00\u001b[0m\n",
            "\u001b[?25hRequirement already satisfied: tqdm>=4.27 in /usr/local/lib/python3.10/dist-packages (from transformers) (4.65.0)\n",
            "Requirement already satisfied: fsspec in /usr/local/lib/python3.10/dist-packages (from huggingface-hub<1.0,>=0.14.1->transformers) (2023.4.0)\n",
            "Requirement already satisfied: typing-extensions>=3.7.4.3 in /usr/local/lib/python3.10/dist-packages (from huggingface-hub<1.0,>=0.14.1->transformers) (4.5.0)\n",
            "Requirement already satisfied: urllib3<1.27,>=1.21.1 in /usr/local/lib/python3.10/dist-packages (from requests->transformers) (1.26.15)\n",
            "Requirement already satisfied: certifi>=2017.4.17 in /usr/local/lib/python3.10/dist-packages (from requests->transformers) (2022.12.7)\n",
            "Requirement already satisfied: charset-normalizer~=2.0.0 in /usr/local/lib/python3.10/dist-packages (from requests->transformers) (2.0.12)\n",
            "Requirement already satisfied: idna<4,>=2.5 in /usr/local/lib/python3.10/dist-packages (from requests->transformers) (3.4)\n",
            "Installing collected packages: tokenizers, huggingface-hub, transformers\n",
            "Successfully installed huggingface-hub-0.15.1 tokenizers-0.13.3 transformers-4.29.2\n"
          ]
        }
      ],
      "source": [
        "!pip install transformers"
      ]
    },
    {
      "attachments": {},
      "cell_type": "markdown",
      "id": "extreme-figure",
      "metadata": {
        "id": "extreme-figure"
      },
      "source": [
        "# 1. BERT\n",
        "\n",
        "\n",
        "## <ins>BACKGROUND</ins>\n",
        "\n",
        "\n",
        "BERT is trained on the task of filling in masked words in sentences. We will use a distilled version of BERT made by huggingface called: DistilBERT\n",
        "\n",
        "A distilled model is simply a condensed version of a model. It performs almost as well, but is lighter and faster than the original model.\n",
        "\n",
        "We will use BERT for two things:\n",
        "1. Feature extraction\n",
        "2. Mask filling\n",
        "\n",
        "\n",
        "First we will instantiate the model and its tokenizer. In huggingface, all models are accompanied with their specific tokenizer. There are many different sorts of tokenizers, which we won't cover. One reason for this is that different models have been trained with different special characters. BERT (and DistilBERT) are specifically trained using some special tokens in the text which we'll see shortly.\n",
        "\n",
        "#### Note: The model and tokenizer we use are case-unsensitive, i.e. they don't know the difference between upper case and lower case letters. Thus to the model BERT = bert = Bert = BeRT\n",
        "\n",
        "## <ins>EXERCISE</ins>\n",
        "\n",
        "Explore the tokenizer and the model to see how they can be used as is\n",
        "\n",
        "\n",
        "#### TODO:\n",
        "- Explore the tokenizer\n",
        "\n"
      ]
    },
    {
      "cell_type": "code",
      "execution_count": null,
      "id": "egyptian-round",
      "metadata": {
        "colab": {
          "base_uri": "https://localhost:8080/"
        },
        "id": "egyptian-round",
        "outputId": "fec7771b-8415-40cf-a267-46d3db2b34f3"
      },
      "outputs": [],
      "source": [
        "from transformers import DistilBertTokenizer, DistilBertModel\n",
        "model = DistilBertModel.from_pretrained('distilbert-base-uncased')\n",
        "tokenizer = DistilBertTokenizer.from_pretrained('distilbert-base-uncased')\n"
      ]
    },
    {
      "attachments": {},
      "cell_type": "markdown",
      "id": "protective-soccer",
      "metadata": {
        "id": "protective-soccer"
      },
      "source": [
        "### Tokenizer\n",
        "\n",
        "The tokenizer is a complex object with many attributes. To get an idea of what's unique about this tokenizer you can use the cell below to see which special tokens exist, their representation in text, and how large the vocabulary of the tokenizer is.\n",
        "\n",
        "Docs:  https://huggingface.co/docs/transformers/quicktour#autotokenizer\n",
        "\n",
        "#### TODO: \n",
        "- Run the commands in the cells below to get information about the tokenizer "
      ]
    },
    {
      "cell_type": "code",
      "execution_count": null,
      "id": "numerous-google",
      "metadata": {
        "colab": {
          "base_uri": "https://localhost:8080/"
        },
        "id": "numerous-google",
        "outputId": "7337d078-2930-4970-d126-b03af5e5290d"
      },
      "outputs": [
        {
          "data": {
            "text/plain": [
              "['bos_token',\n",
              " 'eos_token',\n",
              " 'unk_token',\n",
              " 'sep_token',\n",
              " 'pad_token',\n",
              " 'cls_token',\n",
              " 'mask_token',\n",
              " 'additional_special_tokens']"
            ]
          },
          "execution_count": 3,
          "metadata": {},
          "output_type": "execute_result"
        }
      ],
      "source": [
        "# The categories of special tokens used in DistilBERT\n",
        "tokenizer.SPECIAL_TOKENS_ATTRIBUTES"
      ]
    },
    {
      "attachments": {},
      "cell_type": "markdown",
      "id": "6e10b59d",
      "metadata": {},
      "source": [
        "This page in documentation describes the special tokens https://huggingface.co/docs/transformers/v4.29.1/en/model_doc/bert#transformers.BertTokenizer\n",
        "\n",
        "`CLS` is short for classification, but one can also see it as meaning \"beginning of sentence\""
      ]
    },
    {
      "cell_type": "code",
      "execution_count": null,
      "id": "measured-beginning",
      "metadata": {
        "id": "measured-beginning",
        "outputId": "82ebdd2c-0934-4b46-da3e-679e6695e2e7"
      },
      "outputs": [
        {
          "data": {
            "text/plain": [
              "['[UNK]', '[SEP]', '[PAD]', '[CLS]', '[MASK]']"
            ]
          },
          "execution_count": 16,
          "metadata": {},
          "output_type": "execute_result"
        }
      ],
      "source": [
        "# List the special tokens - can you guess which match which in the previous list?\n",
        "tokenizer.all_special_tokens"
      ]
    },
    {
      "cell_type": "code",
      "execution_count": null,
      "id": "recorded-calgary",
      "metadata": {
        "id": "recorded-calgary",
        "outputId": "4ae066dd-ae2b-47b1-d0af-7954a2f92db8"
      },
      "outputs": [
        {
          "data": {
            "text/plain": [
              "30522"
            ]
          },
          "execution_count": 18,
          "metadata": {},
          "output_type": "execute_result"
        }
      ],
      "source": [
        "# How many unique words have been used when training to tokenizer. \n",
        "# Words outside of this vocabulary will be mapped to the unk_token: '[UNK]'\n",
        "tokenizer.vocab_size"
      ]
    },
    {
      "attachments": {},
      "cell_type": "markdown",
      "id": "unusual-consciousness",
      "metadata": {
        "id": "unusual-consciousness"
      },
      "source": [
        "### Tokenize text\n",
        "\n",
        "Now we'll use the tokenizer on a sample text. "
      ]
    },
    {
      "cell_type": "code",
      "execution_count": 27,
      "id": "innovative-handle",
      "metadata": {
        "colab": {
          "base_uri": "https://localhost:8080/"
        },
        "id": "innovative-handle",
        "outputId": "01a6262a-171c-4357-d9fa-88f6a271493a"
      },
      "outputs": [
        {
          "name": "stdout",
          "output_type": "stream",
          "text": [
            "Tokens:\n",
            " [101, 2023, 2003, 1037, 7099, 6251, 2007, 5417, 2616, 1999, 2009, 1010, 2028, 1997, 2068, 2003, 3424, 10521, 4355, 7875, 13602, 3672, 12199, 2964, 102]\n",
            "\n",
            "Number of tokens:  25\n"
          ]
        }
      ],
      "source": [
        "text = 'This is a sample sentence with fifteen words in it, one of them is antidisestablishmentarianism'\n",
        "tokens = tokenizer.encode(text)\n",
        "print('Tokens:\\n', tokens)\n",
        "print('\\nNumber of tokens: ', len(tokens))"
      ]
    },
    {
      "attachments": {},
      "cell_type": "markdown",
      "id": "color-student",
      "metadata": {
        "id": "color-student"
      },
      "source": [
        "\n",
        "We also see that it's 25 tokens long even though our text only contained fifteen words. Can you figure out what happened?\n",
        "\n",
        "#### TODO:\n",
        "- Decode the input_ids using the decode() function in the tokenizer\n"
      ]
    },
    {
      "cell_type": "code",
      "execution_count": 28,
      "id": "determined-realtor",
      "metadata": {
        "colab": {
          "base_uri": "https://localhost:8080/",
          "height": 53
        },
        "id": "determined-realtor",
        "outputId": "f8926b8d-b8a2-4890-9e07-db05322e04b7"
      },
      "outputs": [
        {
          "data": {
            "application/vnd.google.colaboratory.intrinsic+json": {
              "type": "string"
            },
            "text/plain": [
              "'[CLS] this is a sample sentence with fifteen words in it, one of them is antidisestablishmentarianism [SEP]'"
            ]
          },
          "execution_count": 28,
          "metadata": {},
          "output_type": "execute_result"
        }
      ],
      "source": [
        "# Use the decode function to see what happened\n",
        "tokenizer.decode(tokens)"
      ]
    },
    {
      "cell_type": "code",
      "execution_count": null,
      "id": "7244ff51",
      "metadata": {},
      "outputs": [],
      "source": [
        "# to see what happens with the long word:\n",
        "for token in tokens:\n",
        "    tokenizer.decode(token)"
      ]
    },
    {
      "attachments": {},
      "cell_type": "markdown",
      "id": "3412a860",
      "metadata": {},
      "source": [
        "In the output, the hashes signify the token is part of a word. You can find more examples here: https://huggingface.co/docs/transformers/tokenizer_summary#subword-tokenization"
      ]
    },
    {
      "attachments": {},
      "cell_type": "markdown",
      "id": "sacred-duncan",
      "metadata": {
        "id": "sacred-duncan"
      },
      "source": [
        "## Model\n",
        "\n",
        "### <ins>BACKGROUND</ins>\n",
        "\n",
        "\n",
        "Just like the tokenizer, the model variable contains a lot of information about the model. Huggingface is built on top of pytorch, and supports everything that the pytorch library enables.\n",
        "\n",
        "We might be interested to see the architecture of the model and what the inputs to the model should look like. Run the two following cells"
      ]
    },
    {
      "cell_type": "code",
      "execution_count": null,
      "id": "desirable-relations",
      "metadata": {
        "colab": {
          "base_uri": "https://localhost:8080/"
        },
        "id": "desirable-relations",
        "outputId": "9acd36c1-8682-470c-a7d9-f74222278b8b"
      },
      "outputs": [
        {
          "name": "stdout",
          "output_type": "stream",
          "text": [
            "DistilBertModel(\n",
            "  (embeddings): Embeddings(\n",
            "    (word_embeddings): Embedding(30522, 768, padding_idx=0)\n",
            "    (position_embeddings): Embedding(512, 768)\n",
            "    (LayerNorm): LayerNorm((768,), eps=1e-12, elementwise_affine=True)\n",
            "    (dropout): Dropout(p=0.1, inplace=False)\n",
            "  )\n",
            "  (transformer): Transformer(\n",
            "    (layer): ModuleList(\n",
            "      (0-5): 6 x TransformerBlock(\n",
            "        (attention): MultiHeadSelfAttention(\n",
            "          (dropout): Dropout(p=0.1, inplace=False)\n",
            "          (q_lin): Linear(in_features=768, out_features=768, bias=True)\n",
            "          (k_lin): Linear(in_features=768, out_features=768, bias=True)\n",
            "          (v_lin): Linear(in_features=768, out_features=768, bias=True)\n",
            "          (out_lin): Linear(in_features=768, out_features=768, bias=True)\n",
            "        )\n",
            "        (sa_layer_norm): LayerNorm((768,), eps=1e-12, elementwise_affine=True)\n",
            "        (ffn): FFN(\n",
            "          (dropout): Dropout(p=0.1, inplace=False)\n",
            "          (lin1): Linear(in_features=768, out_features=3072, bias=True)\n",
            "          (lin2): Linear(in_features=3072, out_features=768, bias=True)\n",
            "          (activation): GELUActivation()\n",
            "        )\n",
            "        (output_layer_norm): LayerNorm((768,), eps=1e-12, elementwise_affine=True)\n",
            "      )\n",
            "    )\n",
            "  )\n",
            ")\n"
          ]
        }
      ],
      "source": [
        "print(model)"
      ]
    },
    {
      "cell_type": "code",
      "execution_count": null,
      "id": "motivated-midwest",
      "metadata": {
        "colab": {
          "base_uri": "https://localhost:8080/"
        },
        "id": "motivated-midwest",
        "outputId": "a85ffd21-0c67-4a71-8fcf-a2ed4abff8a7"
      },
      "outputs": [
        {
          "data": {
            "text/plain": [
              "{'input_ids': tensor([[7, 6, 0, 0, 1],\n",
              "         [1, 2, 3, 0, 0],\n",
              "         [0, 0, 0, 4, 5]])}"
            ]
          },
          "execution_count": 7,
          "metadata": {},
          "output_type": "execute_result"
        }
      ],
      "source": [
        "model.dummy_inputs"
      ]
    },
    {
      "attachments": {},
      "cell_type": "markdown",
      "id": "immune-client",
      "metadata": {
        "id": "immune-client"
      },
      "source": [
        "## Send a sentence through model\n",
        "\n",
        "Now let's see what comes out of the model if we send a sentence through it! Run the cell below\n"
      ]
    },
    {
      "cell_type": "code",
      "execution_count": 30,
      "id": "comfortable-treasury",
      "metadata": {
        "colab": {
          "base_uri": "https://localhost:8080/"
        },
        "id": "comfortable-treasury",
        "outputId": "df3ed6eb-39ce-4ace-895b-d34a80346fa6"
      },
      "outputs": [
        {
          "name": "stdout",
          "output_type": "stream",
          "text": [
            "tensor([[[-0.1551, -0.0323,  0.0877,  ...,  0.0033,  0.2715,  0.2747],\n",
            "         [-0.1971, -0.0893,  0.1830,  ...,  0.0153,  0.3042,  0.1955],\n",
            "         [ 0.3238, -0.0349,  0.0759,  ...,  0.0196, -0.1462, -0.2677],\n",
            "         ...,\n",
            "         [-0.7359, -0.3485,  0.2496,  ..., -0.2540,  0.5690, -0.4983],\n",
            "         [-0.3434, -0.2095, -0.2392,  ...,  0.2645,  0.1149,  0.1997],\n",
            "         [ 0.9707,  0.4362, -0.1645,  ...,  0.0281, -0.4067, -0.4955]]],\n",
            "       grad_fn=<NativeLayerNormBackward0>)\n",
            "\n",
            "Shape: torch.Size([1, 14, 768])\n"
          ]
        }
      ],
      "source": [
        "text = 'This sentence will go through BERT and come out the other side'\n",
        "model_input = tokenizer(text, return_tensors='pt')\n",
        "\n",
        "output = model(**model_input)\n",
        "\n",
        "print(output.last_hidden_state)\n",
        "print('\\nShape:', output.last_hidden_state.shape)"
      ]
    },
    {
      "attachments": {},
      "cell_type": "markdown",
      "id": "3qSOM-ZNkB5u",
      "metadata": {
        "id": "3qSOM-ZNkB5u"
      },
      "source": [
        "This is the output of the BERT encoder. It creates embeddings for the input text. The output is a tensor with the following dimensions: [_number_of_batches_, _number_of_tokens_, _embedding_dimensions_].\n",
        "\n",
        "So in this case we had 1 batch with a total of 14 tokens, and the embeddings are in 769 dimensions.\n",
        "\n",
        "We can then use these embeddings as inputs for other machine learning models, as they represent a very signal-rich representation of the input text.\n",
        "\n",
        "It's hard to visualize 768 dimensions, but run the cell below to visualize our input text in one dimension."
      ]
    },
    {
      "cell_type": "code",
      "execution_count": 31,
      "id": "xC50-WHjNwMA",
      "metadata": {
        "colab": {
          "base_uri": "https://localhost:8080/",
          "height": 475
        },
        "id": "xC50-WHjNwMA",
        "outputId": "7c783dbb-be91-47d6-9030-c39fe9722a3a"
      },
      "outputs": [
        {
          "data": {
            "image/png": "[encoded data removed]",
            "text/plain": [
              "<Figure size 640x480 with 1 Axes>"
            ]
          },
          "metadata": {},
          "output_type": "display_data"
        }
      ],
      "source": [
        "from sklearn.manifold import TSNE\n",
        "import seaborn as sns\n",
        "labels = tokenizer.decode(tokenizer.encode(text)).split()\n",
        "tsne = TSNE(n_components=1, perplexity=0.9, random_state=42)\n",
        "tsne_embeddings = tsne.fit_transform(output.last_hidden_state[0,:,:].detach())\n",
        "g = sns.scatterplot(tsne_embeddings)\n",
        "g.legend_.remove()\n",
        "ticks = g.set_xticks(range(len(text.split())+2), labels=labels, rotation=45)"
      ]
    },
    {
      "attachments": {},
      "cell_type": "markdown",
      "id": "e377d353",
      "metadata": {},
      "source": [
        "**NOTE** you may get a different output than the one above or what you get on a different machine. this is due to randomness inherent in the algorithm to reduce dimensions.\n",
        "\n",
        "The important part here is that values around zero (on the y-axis) are \"expected\". Values farther away from 0 - positive or negative - are statistically unlikely. These probabilities are, of course, purely based on the training data."
      ]
    },
    {
      "attachments": {},
      "cell_type": "markdown",
      "id": "boxed-superintendent",
      "metadata": {
        "id": "boxed-superintendent"
      },
      "source": [
        "# 2. Pipelines\n",
        "\n",
        "### <ins>BACKGROUND</ins>\n",
        "\n",
        "\n",
        "The output we got in the last step doesn't tell us much. We get a vector for every token in the input, but how can we use it concretely?\n",
        "\n",
        "To make it easier to use the models we'll make use of huggingfaces pipelines. Pipelines are basically wrappers for models and tokenizers that automate getting an output for a specific task. There are many pipelines you can use, see a full list here: https://huggingface.co/docs/transformers/quicktour#pipeline\n",
        "\n",
        "We will use the \"fill-mask\" and \"feature-extraction\" pipelines.\n",
        "\n",
        "Loading and using a pipeline is super easy. We only have to specify the kind of pipeline and the model we want to use and huggingface takes care of the rest!\n"
      ]
    },
    {
      "cell_type": "code",
      "execution_count": 2,
      "id": "removable-concrete",
      "metadata": {
        "colab": {
          "base_uri": "https://localhost:8080/",
          "height": 249,
          "referenced_widgets": [
            "021828ea1ee441c28e7d7e5c90ff6385",
            "63620e106ef3423c9872f17cfd282d34",
            "e6ac3a8dcfb24e2d976dbffa13c83d5c",
            "808761c1647c4a98a955fa22cf26d74d",
            "b4f0fce29dc148c49e4cca83e5069833",
            "254fef86cfa243268f28246fd3bdf98b",
            "f32478be0b9440a4a16c90231b1a7adf",
            "5a62830364f247a6b50fa5cbe9c441a6",
            "37aaf67f64e745279a385dc6a686ead7",
            "51801e48fb5c43e2b12868dde762ba16",
            "4eac9e12adc240f288c4c6b8990bdd31",
            "e1afd3d5dbbc4170b41eadae06800820",
            "3ebaa684ff5144f0bfcde1072ebb75d1",
            "5f4b8f45bc9948249f252e0b13593fe8",
            "129aeb4ff29141c0a736b83ab93b0547",
            "910e9d945746460fa4495a1d82b7c9ec",
            "c954e2e1edc541198a251859ca6bb042",
            "206eb01e204d4366ab693af491310004",
            "67f79dd12b444201a2719150b411abd7",
            "1d5475b315e14227ae5efd664fdf7b39",
            "5fb471bdf6a449789809f0034ad51a13",
            "4f1adf19a27f499fad756cb9d122d504",
            "88b492e4b9fb4db3b8a92a2d4b66c4be",
            "da07b96b32244fc6ac67f2790e901b09",
            "d75518c9f28b4e00adbf346f5996ea86",
            "ffd3d28e4fe34ccf941a9fc93915de06",
            "4cbac6e3ba454dec95d7c1edec4889a0",
            "853fef953c2f4ed991f1d5dcf6ad7b7d",
            "72ffc71b62444913b6ca2b70bfcebfc6",
            "fe3fde2796f048f8b7401c61c4f89979",
            "33cd36827dcb40fe87de6ec4fabdbb42",
            "97b1189188bd484ab12be5a10b916740",
            "9967428af9bb4fd28e50cc34cea21631",
            "8d9be0bba7814604a3e375947a4b90b5",
            "28503591285e4cf4abfe01d23a35fbe8",
            "8930f4e8c24c48faa1bca15a69ec5b3a",
            "807ab4b2f62a4603bbc35bd85cad62c3",
            "00615a5ede45425fb533bbdb48839ae6",
            "baf18078ce80474dbcf81d1fcb7b92c8",
            "7ab9888193604786b6eb8a408cc9fac4",
            "91395e8adb5f4f5896df6dab449bcd6a",
            "8500241d099447c99bc03146f33249fb",
            "31be088157a34b609d79cc33213b0ee7",
            "54e1d2b87f2d4b3c9cf17bd1287aa5fc",
            "48f9b24e1e8249bfbe1bfddbcc1dc462",
            "09edf4f0b0c54931b091b315fbed9510",
            "5ae7e4916bd243bfb4435054f076e8a7",
            "9f5e1fcf45ac4bfdbcb15aebe7fe97d0",
            "bf4540da687440f9987eefbcabf06bf1",
            "ea3c99f9d29549c7b40bfbd256f27d63",
            "a1665047e6cf456d9bc49dc4b8bccacc",
            "c85e7f9bfcca48bdbc94ba07c6b89c0a",
            "55ecb82ea108441db83736a46c9edff2",
            "27a254d87eda4b088d9a8912fac08fe1",
            "f40201d49e97464598adfdbc44e16d45"
          ]
        },
        "id": "removable-concrete",
        "outputId": "0be6386d-cab3-419f-fddf-16198f19f4a4"
      },
      "outputs": [
        {
          "data": {
            "application/vnd.jupyter.widget-view+json": {
              "model_id": "021828ea1ee441c28e7d7e5c90ff6385",
              "version_major": 2,
              "version_minor": 0
            },
            "text/plain": [
              "Downloading (…)lve/main/config.json:   0%|          | 0.00/483 [00:00<?, ?B/s]"
            ]
          },
          "metadata": {},
          "output_type": "display_data"
        },
        {
          "data": {
            "application/vnd.jupyter.widget-view+json": {
              "model_id": "e1afd3d5dbbc4170b41eadae06800820",
              "version_major": 2,
              "version_minor": 0
            },
            "text/plain": [
              "Downloading pytorch_model.bin:   0%|          | 0.00/268M [00:00<?, ?B/s]"
            ]
          },
          "metadata": {},
          "output_type": "display_data"
        },
        {
          "data": {
            "application/vnd.jupyter.widget-view+json": {
              "model_id": "88b492e4b9fb4db3b8a92a2d4b66c4be",
              "version_major": 2,
              "version_minor": 0
            },
            "text/plain": [
              "Downloading (…)okenizer_config.json:   0%|          | 0.00/28.0 [00:00<?, ?B/s]"
            ]
          },
          "metadata": {},
          "output_type": "display_data"
        },
        {
          "data": {
            "application/vnd.jupyter.widget-view+json": {
              "model_id": "8d9be0bba7814604a3e375947a4b90b5",
              "version_major": 2,
              "version_minor": 0
            },
            "text/plain": [
              "Downloading (…)solve/main/vocab.txt:   0%|          | 0.00/232k [00:00<?, ?B/s]"
            ]
          },
          "metadata": {},
          "output_type": "display_data"
        },
        {
          "data": {
            "application/vnd.jupyter.widget-view+json": {
              "model_id": "48f9b24e1e8249bfbe1bfddbcc1dc462",
              "version_major": 2,
              "version_minor": 0
            },
            "text/plain": [
              "Downloading (…)/main/tokenizer.json:   0%|          | 0.00/466k [00:00<?, ?B/s]"
            ]
          },
          "metadata": {},
          "output_type": "display_data"
        },
        {
          "name": "stderr",
          "output_type": "stream",
          "text": [
            "Some weights of the model checkpoint at distilbert-base-uncased were not used when initializing DistilBertModel: ['vocab_layer_norm.bias', 'vocab_layer_norm.weight', 'vocab_projector.bias', 'vocab_projector.weight', 'vocab_transform.bias', 'vocab_transform.weight']\n",
            "- This IS expected if you are initializing DistilBertModel from the checkpoint of a model trained on another task or with another architecture (e.g. initializing a BertForSequenceClassification model from a BertForPreTraining model).\n",
            "- This IS NOT expected if you are initializing DistilBertModel from the checkpoint of a model that you expect to be exactly identical (initializing a BertForSequenceClassification model from a BertForSequenceClassification model).\n"
          ]
        }
      ],
      "source": [
        "from transformers import pipeline\n",
        "unmasker = pipeline('fill-mask', model='distilbert-base-uncased')\n",
        "extractor = pipeline(\"feature-extraction\", model='distilbert-base-uncased')"
      ]
    },
    {
      "attachments": {},
      "cell_type": "markdown",
      "id": "periodic-poison",
      "metadata": {
        "id": "periodic-poison"
      },
      "source": [
        "## Fill mask\n",
        "\n",
        "We know that BERT was originally trained to predict masked tokens in sentences. It should thus be pretty good at predicting missing words in sentences. \n",
        "\n",
        "\n",
        "\n",
        "### <ins>EXERCISE</ins>\n",
        "\n",
        "The pipeline only supports one masked token at a time. It will spit out a list of what it thinks are the most likely words to fill in and their scores.\n",
        "\n",
        "\n",
        "#### TODO:\n",
        "- Play around with the unmasker by changing the masked_sentence"
      ]
    },
    {
      "cell_type": "code",
      "execution_count": null,
      "id": "liberal-metropolitan",
      "metadata": {
        "colab": {
          "base_uri": "https://localhost:8080/"
        },
        "id": "liberal-metropolitan",
        "outputId": "0c0ea680-3990-4fa0-a95f-5e4cafbcb716"
      },
      "outputs": [
        {
          "data": {
            "text/plain": [
              "[{'score': 0.20484404265880585,\n",
              "  'token': 9548,\n",
              "  'token_str': 'darling',\n",
              "  'sequence': 'hello there my darling. what are you doing today?'},\n",
              " {'score': 0.1133098229765892,\n",
              "  'token': 6203,\n",
              "  'token_str': 'dear',\n",
              "  'sequence': 'hello there my dear. what are you doing today?'},\n",
              " {'score': 0.03995221108198166,\n",
              "  'token': 3203,\n",
              "  'token_str': 'lady',\n",
              "  'sequence': 'hello there my lady. what are you doing today?'},\n",
              " {'score': 0.03463960438966751,\n",
              "  'token': 2767,\n",
              "  'token_str': 'friend',\n",
              "  'sequence': 'hello there my friend. what are you doing today?'},\n",
              " {'score': 0.02364591509103775,\n",
              "  'token': 12074,\n",
              "  'token_str': 'sweetheart',\n",
              "  'sequence': 'hello there my sweetheart. what are you doing today?'}]"
            ]
          },
          "execution_count": 14,
          "metadata": {},
          "output_type": "execute_result"
        }
      ],
      "source": [
        "# Fill mask \n",
        "# masked_sentence = \"Hello there my friend. [MASK] are you doing today?\"\n",
        "masked_sentence = \"Hello there my [MASK]. what are you doing today?\"\n",
        "unmasker(masked_sentence)"
      ]
    },
    {
      "attachments": {},
      "cell_type": "markdown",
      "id": "later-evanescence",
      "metadata": {
        "id": "later-evanescence"
      },
      "source": [
        "## Choosing the most likely candidate\n",
        "\n",
        "### <ins>EXERCISE</ins>\n",
        "\n",
        "Out of the candidates you saw, you probably thought some were better than others. The model also scored how likely it thought the different options were. A natural way to choose is to simply pick the most probable option.\n",
        "\n",
        "Using the unmasker pipeline's outputs, implement a function that you can use to fill one word in a sentence.\n",
        "\n",
        "#### TODO:\n",
        "- Complete the function fill_mask() "
      ]
    },
    {
      "cell_type": "code",
      "execution_count": null,
      "id": "3mz4oEUdkldI",
      "metadata": {
        "id": "3mz4oEUdkldI"
      },
      "outputs": [],
      "source": [
        "def fill_mask(masked_sentence):\n",
        "    \"Returns the masked sentence filled out with the most likely candidate\"\n",
        "    candidates = unmasker(masked_sentence)\n",
        "    best_score = 0\n",
        "    best_sentence = \"\"\n",
        "    for candidate in candidates:\n",
        "        if candidate[\"score\"] > best_score:\n",
        "            best_sentence = candidate[\"sequence\"]\n",
        "            best_score = candidate[\"score\"]\n",
        "\n",
        "    return best_sentence"
      ]
    },
    {
      "cell_type": "code",
      "execution_count": null,
      "id": "abandoned-comfort",
      "metadata": {
        "id": "abandoned-comfort",
        "outputId": "7b45ac2e-709e-4f84-89b3-d26e42fade2b"
      },
      "outputs": [
        {
          "data": {
            "text/plain": [
              "'hello where can i find the?'"
            ]
          },
          "execution_count": 10,
          "metadata": {},
          "output_type": "execute_result"
        }
      ],
      "source": [
        "fill_mask('Hello where can I find the [MASK]')"
      ]
    },
    {
      "attachments": {},
      "cell_type": "markdown",
      "id": "206a8f1c",
      "metadata": {},
      "source": [
        "**NOTE** the above example will almost always select a question mark. the model has learned that statistically it is very likely that this particular sentence structure is concluded with a question mark."
      ]
    },
    {
      "attachments": {},
      "cell_type": "markdown",
      "id": "attractive-prague",
      "metadata": {
        "id": "attractive-prague"
      },
      "source": [
        "# GPT-2\n",
        "\n",
        "\n",
        "## <ins>BACKGROUND</ins>\n",
        "\n",
        "GPT - Generative pre-training is a series of models released by OpenAI (GPT-3 was released in 2020). In 2019, GPT-2 got a lot of media attention in the heated debates about its potential dangers- and for writing stories about unicorns. \n",
        "\n",
        "Just like BERT, the GPT models are trained in an unsupervised fashion, but instead of the MLM task they are trained to do causal language modelling (CLM) - predicting the next word given the context. This arguably makes GPT-2 more fun to play around with than BERT.\n",
        "\n",
        "\n",
        "\n",
        "### Unicorn story\n",
        "\n",
        "The original unicorn story generated by the GPT-2 model trained by OpenAI.\n",
        "\n",
        "#### Written prompt\n",
        "\n",
        "> In a shocking finding, scientist discovered a herd of unicorns living in a remote, previously unexplored valley, in the Andes Mountains. Even more surprising to the researchers was the fact that the unicorns spoke perfect English.\n",
        "\n",
        "#### Generated by GPT-2\n",
        "\n",
        "> The scientist named the population, after their distinctive horn, Ovid’s Unicorn. These four-horned, silver-white unicorns were previously unknown to science.\n",
        "\n",
        "> Now, after almost two centuries, the mystery of what sparked this odd phenomenon is finally solved.\n",
        "\n",
        "> Dr. Jorge Pérez, an evolutionary biologist from the University of La Paz, and several companions, were exploring the Andes Mountains when they found a small valley, with no other animals or humans. Pérez noticed that the valley had what appeared to be a natural fountain, surrounded by two peaks of rock and silver snow.\n",
        "\n",
        "> Pérez and the others then ventured further into the valley. “By the time we reached the top of one peak, the water looked blue, with some crystals on top,” said Pérez.\n",
        "\n",
        "> Pérez and his friends were astonished to see the unicorn herd. These creatures could be seen from the air without having to move too much to see them – they were so close they could touch their horns.\n",
        "\n",
        "> While examining these bizarre creatures the scientists discovered that the creatures also spoke some fairly regular English. Pérez stated, “We can see, for example, that they have a common ‘language,’ something like a dialect or dialectic.”\n",
        "\n",
        "> Dr. Pérez believes that the unicorns may have originated in Argentina, where the animals were believed to be descendants of a lost race of people who lived there before the arrival of humans in those parts of South America.\n",
        "\n",
        "> While their origins are still unclear, some believe that perhaps the creatures were created when a human and a unicorn met each other in a time before human civilization. According to Pérez, “In South America, such incidents seem to be quite common.”\n",
        "\n",
        "> However, Pérez also pointed out that it is likely that the only way of knowing for sure if unicorns are indeed the descendants of a lost alien race is through DNA. “But they seem to be able to communicate in English quite well, which I believe is a sign of evolution, or at least a change in social organization,” said the scientist.\n",
        "\n",
        "\n",
        "\n",
        "Just like we used DistilBERT, we will here be using DistilGPT-2 from huggingface, which is a distilled version of GPT-2 small.\n",
        "\n",
        "\n",
        "\n",
        "## <ins>EXERCISE</ins>\n",
        "\n",
        "In this exercise we'll use distill-gpt2 to generate text.\n",
        "\n",
        "#### TODO:\n",
        "- Use Distill-GPT2 to generate text\n",
        "- Generate text with your fine-tuned model"
      ]
    },
    {
      "attachments": {},
      "cell_type": "markdown",
      "id": "judicial-winter",
      "metadata": {
        "id": "judicial-winter"
      },
      "source": [
        "### Generate text with Distil-GPT2\n",
        "\n",
        "Use the cell below to download and use distilgpt2. \n",
        "\n",
        "When you execute the cell you'll get a prompt for the model input that it will generate text from. You can of course change the length and number of outputs you want it to generate! Why not try giving it the same prompt that the unicorn text was generated from?"
      ]
    },
    {
      "cell_type": "code",
      "execution_count": 15,
      "id": "kA1zR6-0UFaM",
      "metadata": {
        "colab": {
          "base_uri": "https://localhost:8080/"
        },
        "id": "kA1zR6-0UFaM",
        "outputId": "9cc14175-ff6b-4ac0-f38f-67a4298aa7e6"
      },
      "outputs": [
        {
          "name": "stdout",
          "output_type": "stream",
          "text": [
            "Looking in indexes: https://pypi.org/simple, https://us-python.pkg.dev/colab-wheels/public/simple/\n",
            "Requirement already satisfied: xformers in /usr/local/lib/python3.10/dist-packages (0.0.20)\n",
            "Collecting accelerate\n",
            "  Downloading accelerate-0.19.0-py3-none-any.whl (219 kB)\n",
            "\u001b[2K     \u001b[90m━━━━━━━━━━━━━━━━━━━━━━━━━━━━━━━━━━━━━━━\u001b[0m \u001b[32m219.1/219.1 kB\u001b[0m \u001b[31m7.6 MB/s\u001b[0m eta \u001b[36m0:00:00\u001b[0m\n",
            "\u001b[?25hRequirement already satisfied: numpy in /usr/local/lib/python3.10/dist-packages (from xformers) (1.22.4)\n",
            "Requirement already satisfied: pyre-extensions==0.0.29 in /usr/local/lib/python3.10/dist-packages (from xformers) (0.0.29)\n",
            "Requirement already satisfied: torch==2.0.1 in /usr/local/lib/python3.10/dist-packages (from xformers) (2.0.1+cu118)\n",
            "Requirement already satisfied: typing-inspect in /usr/local/lib/python3.10/dist-packages (from pyre-extensions==0.0.29->xformers) (0.9.0)\n",
            "Requirement already satisfied: typing-extensions in /usr/local/lib/python3.10/dist-packages (from pyre-extensions==0.0.29->xformers) (4.5.0)\n",
            "Requirement already satisfied: filelock in /usr/local/lib/python3.10/dist-packages (from torch==2.0.1->xformers) (3.12.0)\n",
            "Requirement already satisfied: sympy in /usr/local/lib/python3.10/dist-packages (from torch==2.0.1->xformers) (1.11.1)\n",
            "Requirement already satisfied: networkx in /usr/local/lib/python3.10/dist-packages (from torch==2.0.1->xformers) (3.1)\n",
            "Requirement already satisfied: jinja2 in /usr/local/lib/python3.10/dist-packages (from torch==2.0.1->xformers) (3.1.2)\n",
            "Requirement already satisfied: triton==2.0.0 in /usr/local/lib/python3.10/dist-packages (from torch==2.0.1->xformers) (2.0.0)\n",
            "Requirement already satisfied: cmake in /usr/local/lib/python3.10/dist-packages (from triton==2.0.0->torch==2.0.1->xformers) (3.25.2)\n",
            "Requirement already satisfied: lit in /usr/local/lib/python3.10/dist-packages (from triton==2.0.0->torch==2.0.1->xformers) (16.0.5)\n",
            "Requirement already satisfied: packaging>=20.0 in /usr/local/lib/python3.10/dist-packages (from accelerate) (23.1)\n",
            "Requirement already satisfied: psutil in /usr/local/lib/python3.10/dist-packages (from accelerate) (5.9.5)\n",
            "Requirement already satisfied: pyyaml in /usr/local/lib/python3.10/dist-packages (from accelerate) (6.0)\n",
            "Requirement already satisfied: MarkupSafe>=2.0 in /usr/local/lib/python3.10/dist-packages (from jinja2->torch==2.0.1->xformers) (2.1.2)\n",
            "Requirement already satisfied: mpmath>=0.19 in /usr/local/lib/python3.10/dist-packages (from sympy->torch==2.0.1->xformers) (1.3.0)\n",
            "Requirement already satisfied: mypy-extensions>=0.3.0 in /usr/local/lib/python3.10/dist-packages (from typing-inspect->pyre-extensions==0.0.29->xformers) (1.0.0)\n",
            "Installing collected packages: accelerate\n",
            "Successfully installed accelerate-0.19.0\n"
          ]
        }
      ],
      "source": [
        "!pip install xformers accelerate"
      ]
    },
    {
      "cell_type": "code",
      "execution_count": 6,
      "id": "tlYx8BWkUhqu",
      "metadata": {
        "id": "tlYx8BWkUhqu"
      },
      "outputs": [],
      "source": [
        "prompt = \"In a shocking finding, scientist discovered a herd of unicorns living in a remote, previously unexplored valley, in the Andes Mountains. Even more surprising to the researchers was the fact that the unicorns spoke perfect English.\""
      ]
    },
    {
      "cell_type": "code",
      "execution_count": 10,
      "id": "pQmPNSXOTQIU",
      "metadata": {
        "colab": {
          "base_uri": "https://localhost:8080/"
        },
        "id": "pQmPNSXOTQIU",
        "outputId": "74abb895-bfd9-4814-beba-af72ef1e7020"
      },
      "outputs": [
        {
          "name": "stderr",
          "output_type": "stream",
          "text": [
            "Setting `pad_token_id` to `eos_token_id`:50256 for open-end generation.\n"
          ]
        },
        {
          "data": {
            "text/plain": [
              "[{'generated_text': '\\n\\n\\n‹To make the discovery of the unicorns that live in the Andes Mountains is an international task. This is because you know very well the genetic programming that happens to you, which determines things and the behavior of your new friend'},\n",
              " {'generated_text': '\\n\\n\\n cheapest, cheapest and closest\\nThe unicorns lived near Andes, a remote mountainside area, with great diversity of species of insects. The herd of unicorns lived in the Andes Mountains around 30,000 years ago and in'},\n",
              " {'generated_text': '\\n\\n\\n\"Many believe the unicorns are intelligent, and sometimes are quite intelligent,\" writes Peter O\\'Donnell of University College London. Since then, the researchers have had to take a \"step up and make a living\" by keeping the animals'},\n",
              " {'generated_text': '\\n\\n\\n\\nBut a new study says that because they share the same language, they are likely to speak another language, instead of another. That could have one of the best possible languages in the world, as well as help to boost the ability'}]"
            ]
          },
          "execution_count": 10,
          "metadata": {},
          "output_type": "execute_result"
        }
      ],
      "source": [
        "generator = pipeline(task=\"text-generation\", model=\"distilgpt2\")\n",
        "\n",
        "generator(prompt, max_new_tokens=50, num_return_sequences=4, return_full_text=False)"
      ]
    },
    {
      "attachments": {},
      "cell_type": "markdown",
      "id": "2Hyk5uQUiuTQ",
      "metadata": {
        "id": "2Hyk5uQUiuTQ"
      },
      "source": [
        "### Other models\n",
        "\n",
        "In the same way we did above, we can load other models. There are thousands available on Huggingface, including ones trained on Swedish data. \n",
        "\n",
        "Find another model for text generation on https://huggingface.co/ and create a generator for it!"
      ]
    },
    {
      "cell_type": "code",
      "execution_count": null,
      "id": "DFEYkRGFi-nV",
      "metadata": {
        "id": "DFEYkRGFi-nV"
      },
      "outputs": [],
      "source": [
        "# write your code here"
      ]
    },
    {
      "attachments": {},
      "cell_type": "markdown",
      "id": "lZiyJty8iAkO",
      "metadata": {
        "id": "lZiyJty8iAkO"
      },
      "source": [
        "## Now what?\n",
        "\n",
        "Feel like you're done playing around with generating text? Explore the Huggingface documentation, and perhaps find a tutorial on how you can fine tune a pretrained model on your own text! https://huggingface.co/docs/transformers/main/en/quicktour"
      ]
    }
  ],
  "metadata": {
    "accelerator": "GPU",
    "colab": {
      "gpuType": "T4",
      "provenance": []
    },
    "kernelspec": {
      "display_name": "gputest",
      "language": "python",
      "name": "python3"
    },
    "language_info": {
      "codemirror_mode": {
        "name": "ipython",
        "version": 3
      },
      "file_extension": ".py",
      "mimetype": "text/x-python",
      "name": "python",
      "nbconvert_exporter": "python",
      "pygments_lexer": "ipython3",
      "version": "3.10.6"
    },
    "widgets": {
      "application/vnd.jupyter.widget-state+json": {
        "00615a5ede45425fb533bbdb48839ae6": {
          "model_module": "@jupyter-widgets/base",
          "model_module_version": "1.2.0",
          "model_name": "LayoutModel",
          "state": {
            "_model_module": "@jupyter-widgets/base",
            "_model_module_version": "1.2.0",
            "_model_name": "LayoutModel",
            "_view_count": null,
            "_view_module": "@jupyter-widgets/base",
            "_view_module_version": "1.2.0",
            "_view_name": "LayoutView",
            "align_content": null,
            "align_items": null,
            "align_self": null,
            "border": null,
            "bottom": null,
            "display": null,
            "flex": null,
            "flex_flow": null,
            "grid_area": null,
            "grid_auto_columns": null,
            "grid_auto_flow": null,
            "grid_auto_rows": null,
            "grid_column": null,
            "grid_gap": null,
            "grid_row": null,
            "grid_template_areas": null,
            "grid_template_columns": null,
            "grid_template_rows": null,
            "height": null,
            "justify_content": null,
            "justify_items": null,
            "left": null,
            "margin": null,
            "max_height": null,
            "max_width": null,
            "min_height": null,
            "min_width": null,
            "object_fit": null,
            "object_position": null,
            "order": null,
            "overflow": null,
            "overflow_x": null,
            "overflow_y": null,
            "padding": null,
            "right": null,
            "top": null,
            "visibility": null,
            "width": null
          }
        },
        "021828ea1ee441c28e7d7e5c90ff6385": {
          "model_module": "@jupyter-widgets/controls",
          "model_module_version": "1.5.0",
          "model_name": "HBoxModel",
          "state": {
            "_dom_classes": [],
            "_model_module": "@jupyter-widgets/controls",
            "_model_module_version": "1.5.0",
            "_model_name": "HBoxModel",
            "_view_count": null,
            "_view_module": "@jupyter-widgets/controls",
            "_view_module_version": "1.5.0",
            "_view_name": "HBoxView",
            "box_style": "",
            "children": [
              "IPY_MODEL_63620e106ef3423c9872f17cfd282d34",
              "IPY_MODEL_e6ac3a8dcfb24e2d976dbffa13c83d5c",
              "IPY_MODEL_808761c1647c4a98a955fa22cf26d74d"
            ],
            "layout": "IPY_MODEL_b4f0fce29dc148c49e4cca83e5069833"
          }
        },
        "09edf4f0b0c54931b091b315fbed9510": {
          "model_module": "@jupyter-widgets/controls",
          "model_module_version": "1.5.0",
          "model_name": "HTMLModel",
          "state": {
            "_dom_classes": [],
            "_model_module": "@jupyter-widgets/controls",
            "_model_module_version": "1.5.0",
            "_model_name": "HTMLModel",
            "_view_count": null,
            "_view_module": "@jupyter-widgets/controls",
            "_view_module_version": "1.5.0",
            "_view_name": "HTMLView",
            "description": "",
            "description_tooltip": null,
            "layout": "IPY_MODEL_ea3c99f9d29549c7b40bfbd256f27d63",
            "placeholder": "​",
            "style": "IPY_MODEL_a1665047e6cf456d9bc49dc4b8bccacc",
            "value": "Downloading (…)/main/tokenizer.json: 100%"
          }
        },
        "129aeb4ff29141c0a736b83ab93b0547": {
          "model_module": "@jupyter-widgets/controls",
          "model_module_version": "1.5.0",
          "model_name": "HTMLModel",
          "state": {
            "_dom_classes": [],
            "_model_module": "@jupyter-widgets/controls",
            "_model_module_version": "1.5.0",
            "_model_name": "HTMLModel",
            "_view_count": null,
            "_view_module": "@jupyter-widgets/controls",
            "_view_module_version": "1.5.0",
            "_view_name": "HTMLView",
            "description": "",
            "description_tooltip": null,
            "layout": "IPY_MODEL_5fb471bdf6a449789809f0034ad51a13",
            "placeholder": "​",
            "style": "IPY_MODEL_4f1adf19a27f499fad756cb9d122d504",
            "value": " 268M/268M [00:02&lt;00:00, 105MB/s]"
          }
        },
        "1d5475b315e14227ae5efd664fdf7b39": {
          "model_module": "@jupyter-widgets/controls",
          "model_module_version": "1.5.0",
          "model_name": "ProgressStyleModel",
          "state": {
            "_model_module": "@jupyter-widgets/controls",
            "_model_module_version": "1.5.0",
            "_model_name": "ProgressStyleModel",
            "_view_count": null,
            "_view_module": "@jupyter-widgets/base",
            "_view_module_version": "1.2.0",
            "_view_name": "StyleView",
            "bar_color": null,
            "description_width": ""
          }
        },
        "206eb01e204d4366ab693af491310004": {
          "model_module": "@jupyter-widgets/controls",
          "model_module_version": "1.5.0",
          "model_name": "DescriptionStyleModel",
          "state": {
            "_model_module": "@jupyter-widgets/controls",
            "_model_module_version": "1.5.0",
            "_model_name": "DescriptionStyleModel",
            "_view_count": null,
            "_view_module": "@jupyter-widgets/base",
            "_view_module_version": "1.2.0",
            "_view_name": "StyleView",
            "description_width": ""
          }
        },
        "254fef86cfa243268f28246fd3bdf98b": {
          "model_module": "@jupyter-widgets/base",
          "model_module_version": "1.2.0",
          "model_name": "LayoutModel",
          "state": {
            "_model_module": "@jupyter-widgets/base",
            "_model_module_version": "1.2.0",
            "_model_name": "LayoutModel",
            "_view_count": null,
            "_view_module": "@jupyter-widgets/base",
            "_view_module_version": "1.2.0",
            "_view_name": "LayoutView",
            "align_content": null,
            "align_items": null,
            "align_self": null,
            "border": null,
            "bottom": null,
            "display": null,
            "flex": null,
            "flex_flow": null,
            "grid_area": null,
            "grid_auto_columns": null,
            "grid_auto_flow": null,
            "grid_auto_rows": null,
            "grid_column": null,
            "grid_gap": null,
            "grid_row": null,
            "grid_template_areas": null,
            "grid_template_columns": null,
            "grid_template_rows": null,
            "height": null,
            "justify_content": null,
            "justify_items": null,
            "left": null,
            "margin": null,
            "max_height": null,
            "max_width": null,
            "min_height": null,
            "min_width": null,
            "object_fit": null,
            "object_position": null,
            "order": null,
            "overflow": null,
            "overflow_x": null,
            "overflow_y": null,
            "padding": null,
            "right": null,
            "top": null,
            "visibility": null,
            "width": null
          }
        },
        "27a254d87eda4b088d9a8912fac08fe1": {
          "model_module": "@jupyter-widgets/base",
          "model_module_version": "1.2.0",
          "model_name": "LayoutModel",
          "state": {
            "_model_module": "@jupyter-widgets/base",
            "_model_module_version": "1.2.0",
            "_model_name": "LayoutModel",
            "_view_count": null,
            "_view_module": "@jupyter-widgets/base",
            "_view_module_version": "1.2.0",
            "_view_name": "LayoutView",
            "align_content": null,
            "align_items": null,
            "align_self": null,
            "border": null,
            "bottom": null,
            "display": null,
            "flex": null,
            "flex_flow": null,
            "grid_area": null,
            "grid_auto_columns": null,
            "grid_auto_flow": null,
            "grid_auto_rows": null,
            "grid_column": null,
            "grid_gap": null,
            "grid_row": null,
            "grid_template_areas": null,
            "grid_template_columns": null,
            "grid_template_rows": null,
            "height": null,
            "justify_content": null,
            "justify_items": null,
            "left": null,
            "margin": null,
            "max_height": null,
            "max_width": null,
            "min_height": null,
            "min_width": null,
            "object_fit": null,
            "object_position": null,
            "order": null,
            "overflow": null,
            "overflow_x": null,
            "overflow_y": null,
            "padding": null,
            "right": null,
            "top": null,
            "visibility": null,
            "width": null
          }
        },
        "28503591285e4cf4abfe01d23a35fbe8": {
          "model_module": "@jupyter-widgets/controls",
          "model_module_version": "1.5.0",
          "model_name": "HTMLModel",
          "state": {
            "_dom_classes": [],
            "_model_module": "@jupyter-widgets/controls",
            "_model_module_version": "1.5.0",
            "_model_name": "HTMLModel",
            "_view_count": null,
            "_view_module": "@jupyter-widgets/controls",
            "_view_module_version": "1.5.0",
            "_view_name": "HTMLView",
            "description": "",
            "description_tooltip": null,
            "layout": "IPY_MODEL_baf18078ce80474dbcf81d1fcb7b92c8",
            "placeholder": "​",
            "style": "IPY_MODEL_7ab9888193604786b6eb8a408cc9fac4",
            "value": "Downloading (…)solve/main/vocab.txt: 100%"
          }
        },
        "31be088157a34b609d79cc33213b0ee7": {
          "model_module": "@jupyter-widgets/base",
          "model_module_version": "1.2.0",
          "model_name": "LayoutModel",
          "state": {
            "_model_module": "@jupyter-widgets/base",
            "_model_module_version": "1.2.0",
            "_model_name": "LayoutModel",
            "_view_count": null,
            "_view_module": "@jupyter-widgets/base",
            "_view_module_version": "1.2.0",
            "_view_name": "LayoutView",
            "align_content": null,
            "align_items": null,
            "align_self": null,
            "border": null,
            "bottom": null,
            "display": null,
            "flex": null,
            "flex_flow": null,
            "grid_area": null,
            "grid_auto_columns": null,
            "grid_auto_flow": null,
            "grid_auto_rows": null,
            "grid_column": null,
            "grid_gap": null,
            "grid_row": null,
            "grid_template_areas": null,
            "grid_template_columns": null,
            "grid_template_rows": null,
            "height": null,
            "justify_content": null,
            "justify_items": null,
            "left": null,
            "margin": null,
            "max_height": null,
            "max_width": null,
            "min_height": null,
            "min_width": null,
            "object_fit": null,
            "object_position": null,
            "order": null,
            "overflow": null,
            "overflow_x": null,
            "overflow_y": null,
            "padding": null,
            "right": null,
            "top": null,
            "visibility": null,
            "width": null
          }
        },
        "33cd36827dcb40fe87de6ec4fabdbb42": {
          "model_module": "@jupyter-widgets/controls",
          "model_module_version": "1.5.0",
          "model_name": "ProgressStyleModel",
          "state": {
            "_model_module": "@jupyter-widgets/controls",
            "_model_module_version": "1.5.0",
            "_model_name": "ProgressStyleModel",
            "_view_count": null,
            "_view_module": "@jupyter-widgets/base",
            "_view_module_version": "1.2.0",
            "_view_name": "StyleView",
            "bar_color": null,
            "description_width": ""
          }
        },
        "37aaf67f64e745279a385dc6a686ead7": {
          "model_module": "@jupyter-widgets/controls",
          "model_module_version": "1.5.0",
          "model_name": "ProgressStyleModel",
          "state": {
            "_model_module": "@jupyter-widgets/controls",
            "_model_module_version": "1.5.0",
            "_model_name": "ProgressStyleModel",
            "_view_count": null,
            "_view_module": "@jupyter-widgets/base",
            "_view_module_version": "1.2.0",
            "_view_name": "StyleView",
            "bar_color": null,
            "description_width": ""
          }
        },
        "3ebaa684ff5144f0bfcde1072ebb75d1": {
          "model_module": "@jupyter-widgets/controls",
          "model_module_version": "1.5.0",
          "model_name": "HTMLModel",
          "state": {
            "_dom_classes": [],
            "_model_module": "@jupyter-widgets/controls",
            "_model_module_version": "1.5.0",
            "_model_name": "HTMLModel",
            "_view_count": null,
            "_view_module": "@jupyter-widgets/controls",
            "_view_module_version": "1.5.0",
            "_view_name": "HTMLView",
            "description": "",
            "description_tooltip": null,
            "layout": "IPY_MODEL_c954e2e1edc541198a251859ca6bb042",
            "placeholder": "​",
            "style": "IPY_MODEL_206eb01e204d4366ab693af491310004",
            "value": "Downloading pytorch_model.bin: 100%"
          }
        },
        "48f9b24e1e8249bfbe1bfddbcc1dc462": {
          "model_module": "@jupyter-widgets/controls",
          "model_module_version": "1.5.0",
          "model_name": "HBoxModel",
          "state": {
            "_dom_classes": [],
            "_model_module": "@jupyter-widgets/controls",
            "_model_module_version": "1.5.0",
            "_model_name": "HBoxModel",
            "_view_count": null,
            "_view_module": "@jupyter-widgets/controls",
            "_view_module_version": "1.5.0",
            "_view_name": "HBoxView",
            "box_style": "",
            "children": [
              "IPY_MODEL_09edf4f0b0c54931b091b315fbed9510",
              "IPY_MODEL_5ae7e4916bd243bfb4435054f076e8a7",
              "IPY_MODEL_9f5e1fcf45ac4bfdbcb15aebe7fe97d0"
            ],
            "layout": "IPY_MODEL_bf4540da687440f9987eefbcabf06bf1"
          }
        },
        "4cbac6e3ba454dec95d7c1edec4889a0": {
          "model_module": "@jupyter-widgets/base",
          "model_module_version": "1.2.0",
          "model_name": "LayoutModel",
          "state": {
            "_model_module": "@jupyter-widgets/base",
            "_model_module_version": "1.2.0",
            "_model_name": "LayoutModel",
            "_view_count": null,
            "_view_module": "@jupyter-widgets/base",
            "_view_module_version": "1.2.0",
            "_view_name": "LayoutView",
            "align_content": null,
            "align_items": null,
            "align_self": null,
            "border": null,
            "bottom": null,
            "display": null,
            "flex": null,
            "flex_flow": null,
            "grid_area": null,
            "grid_auto_columns": null,
            "grid_auto_flow": null,
            "grid_auto_rows": null,
            "grid_column": null,
            "grid_gap": null,
            "grid_row": null,
            "grid_template_areas": null,
            "grid_template_columns": null,
            "grid_template_rows": null,
            "height": null,
            "justify_content": null,
            "justify_items": null,
            "left": null,
            "margin": null,
            "max_height": null,
            "max_width": null,
            "min_height": null,
            "min_width": null,
            "object_fit": null,
            "object_position": null,
            "order": null,
            "overflow": null,
            "overflow_x": null,
            "overflow_y": null,
            "padding": null,
            "right": null,
            "top": null,
            "visibility": null,
            "width": null
          }
        },
        "4eac9e12adc240f288c4c6b8990bdd31": {
          "model_module": "@jupyter-widgets/controls",
          "model_module_version": "1.5.0",
          "model_name": "DescriptionStyleModel",
          "state": {
            "_model_module": "@jupyter-widgets/controls",
            "_model_module_version": "1.5.0",
            "_model_name": "DescriptionStyleModel",
            "_view_count": null,
            "_view_module": "@jupyter-widgets/base",
            "_view_module_version": "1.2.0",
            "_view_name": "StyleView",
            "description_width": ""
          }
        },
        "4f1adf19a27f499fad756cb9d122d504": {
          "model_module": "@jupyter-widgets/controls",
          "model_module_version": "1.5.0",
          "model_name": "DescriptionStyleModel",
          "state": {
            "_model_module": "@jupyter-widgets/controls",
            "_model_module_version": "1.5.0",
            "_model_name": "DescriptionStyleModel",
            "_view_count": null,
            "_view_module": "@jupyter-widgets/base",
            "_view_module_version": "1.2.0",
            "_view_name": "StyleView",
            "description_width": ""
          }
        },
        "51801e48fb5c43e2b12868dde762ba16": {
          "model_module": "@jupyter-widgets/base",
          "model_module_version": "1.2.0",
          "model_name": "LayoutModel",
          "state": {
            "_model_module": "@jupyter-widgets/base",
            "_model_module_version": "1.2.0",
            "_model_name": "LayoutModel",
            "_view_count": null,
            "_view_module": "@jupyter-widgets/base",
            "_view_module_version": "1.2.0",
            "_view_name": "LayoutView",
            "align_content": null,
            "align_items": null,
            "align_self": null,
            "border": null,
            "bottom": null,
            "display": null,
            "flex": null,
            "flex_flow": null,
            "grid_area": null,
            "grid_auto_columns": null,
            "grid_auto_flow": null,
            "grid_auto_rows": null,
            "grid_column": null,
            "grid_gap": null,
            "grid_row": null,
            "grid_template_areas": null,
            "grid_template_columns": null,
            "grid_template_rows": null,
            "height": null,
            "justify_content": null,
            "justify_items": null,
            "left": null,
            "margin": null,
            "max_height": null,
            "max_width": null,
            "min_height": null,
            "min_width": null,
            "object_fit": null,
            "object_position": null,
            "order": null,
            "overflow": null,
            "overflow_x": null,
            "overflow_y": null,
            "padding": null,
            "right": null,
            "top": null,
            "visibility": null,
            "width": null
          }
        },
        "54e1d2b87f2d4b3c9cf17bd1287aa5fc": {
          "model_module": "@jupyter-widgets/controls",
          "model_module_version": "1.5.0",
          "model_name": "DescriptionStyleModel",
          "state": {
            "_model_module": "@jupyter-widgets/controls",
            "_model_module_version": "1.5.0",
            "_model_name": "DescriptionStyleModel",
            "_view_count": null,
            "_view_module": "@jupyter-widgets/base",
            "_view_module_version": "1.2.0",
            "_view_name": "StyleView",
            "description_width": ""
          }
        },
        "55ecb82ea108441db83736a46c9edff2": {
          "model_module": "@jupyter-widgets/controls",
          "model_module_version": "1.5.0",
          "model_name": "ProgressStyleModel",
          "state": {
            "_model_module": "@jupyter-widgets/controls",
            "_model_module_version": "1.5.0",
            "_model_name": "ProgressStyleModel",
            "_view_count": null,
            "_view_module": "@jupyter-widgets/base",
            "_view_module_version": "1.2.0",
            "_view_name": "StyleView",
            "bar_color": null,
            "description_width": ""
          }
        },
        "5a62830364f247a6b50fa5cbe9c441a6": {
          "model_module": "@jupyter-widgets/base",
          "model_module_version": "1.2.0",
          "model_name": "LayoutModel",
          "state": {
            "_model_module": "@jupyter-widgets/base",
            "_model_module_version": "1.2.0",
            "_model_name": "LayoutModel",
            "_view_count": null,
            "_view_module": "@jupyter-widgets/base",
            "_view_module_version": "1.2.0",
            "_view_name": "LayoutView",
            "align_content": null,
            "align_items": null,
            "align_self": null,
            "border": null,
            "bottom": null,
            "display": null,
            "flex": null,
            "flex_flow": null,
            "grid_area": null,
            "grid_auto_columns": null,
            "grid_auto_flow": null,
            "grid_auto_rows": null,
            "grid_column": null,
            "grid_gap": null,
            "grid_row": null,
            "grid_template_areas": null,
            "grid_template_columns": null,
            "grid_template_rows": null,
            "height": null,
            "justify_content": null,
            "justify_items": null,
            "left": null,
            "margin": null,
            "max_height": null,
            "max_width": null,
            "min_height": null,
            "min_width": null,
            "object_fit": null,
            "object_position": null,
            "order": null,
            "overflow": null,
            "overflow_x": null,
            "overflow_y": null,
            "padding": null,
            "right": null,
            "top": null,
            "visibility": null,
            "width": null
          }
        },
        "5ae7e4916bd243bfb4435054f076e8a7": {
          "model_module": "@jupyter-widgets/controls",
          "model_module_version": "1.5.0",
          "model_name": "FloatProgressModel",
          "state": {
            "_dom_classes": [],
            "_model_module": "@jupyter-widgets/controls",
            "_model_module_version": "1.5.0",
            "_model_name": "FloatProgressModel",
            "_view_count": null,
            "_view_module": "@jupyter-widgets/controls",
            "_view_module_version": "1.5.0",
            "_view_name": "ProgressView",
            "bar_style": "success",
            "description": "",
            "description_tooltip": null,
            "layout": "IPY_MODEL_c85e7f9bfcca48bdbc94ba07c6b89c0a",
            "max": 466062,
            "min": 0,
            "orientation": "horizontal",
            "style": "IPY_MODEL_55ecb82ea108441db83736a46c9edff2",
            "value": 466062
          }
        },
        "5f4b8f45bc9948249f252e0b13593fe8": {
          "model_module": "@jupyter-widgets/controls",
          "model_module_version": "1.5.0",
          "model_name": "FloatProgressModel",
          "state": {
            "_dom_classes": [],
            "_model_module": "@jupyter-widgets/controls",
            "_model_module_version": "1.5.0",
            "_model_name": "FloatProgressModel",
            "_view_count": null,
            "_view_module": "@jupyter-widgets/controls",
            "_view_module_version": "1.5.0",
            "_view_name": "ProgressView",
            "bar_style": "success",
            "description": "",
            "description_tooltip": null,
            "layout": "IPY_MODEL_67f79dd12b444201a2719150b411abd7",
            "max": 267967963,
            "min": 0,
            "orientation": "horizontal",
            "style": "IPY_MODEL_1d5475b315e14227ae5efd664fdf7b39",
            "value": 267967963
          }
        },
        "5fb471bdf6a449789809f0034ad51a13": {
          "model_module": "@jupyter-widgets/base",
          "model_module_version": "1.2.0",
          "model_name": "LayoutModel",
          "state": {
            "_model_module": "@jupyter-widgets/base",
            "_model_module_version": "1.2.0",
            "_model_name": "LayoutModel",
            "_view_count": null,
            "_view_module": "@jupyter-widgets/base",
            "_view_module_version": "1.2.0",
            "_view_name": "LayoutView",
            "align_content": null,
            "align_items": null,
            "align_self": null,
            "border": null,
            "bottom": null,
            "display": null,
            "flex": null,
            "flex_flow": null,
            "grid_area": null,
            "grid_auto_columns": null,
            "grid_auto_flow": null,
            "grid_auto_rows": null,
            "grid_column": null,
            "grid_gap": null,
            "grid_row": null,
            "grid_template_areas": null,
            "grid_template_columns": null,
            "grid_template_rows": null,
            "height": null,
            "justify_content": null,
            "justify_items": null,
            "left": null,
            "margin": null,
            "max_height": null,
            "max_width": null,
            "min_height": null,
            "min_width": null,
            "object_fit": null,
            "object_position": null,
            "order": null,
            "overflow": null,
            "overflow_x": null,
            "overflow_y": null,
            "padding": null,
            "right": null,
            "top": null,
            "visibility": null,
            "width": null
          }
        },
        "63620e106ef3423c9872f17cfd282d34": {
          "model_module": "@jupyter-widgets/controls",
          "model_module_version": "1.5.0",
          "model_name": "HTMLModel",
          "state": {
            "_dom_classes": [],
            "_model_module": "@jupyter-widgets/controls",
            "_model_module_version": "1.5.0",
            "_model_name": "HTMLModel",
            "_view_count": null,
            "_view_module": "@jupyter-widgets/controls",
            "_view_module_version": "1.5.0",
            "_view_name": "HTMLView",
            "description": "",
            "description_tooltip": null,
            "layout": "IPY_MODEL_254fef86cfa243268f28246fd3bdf98b",
            "placeholder": "​",
            "style": "IPY_MODEL_f32478be0b9440a4a16c90231b1a7adf",
            "value": "Downloading (…)lve/main/config.json: 100%"
          }
        },
        "67f79dd12b444201a2719150b411abd7": {
          "model_module": "@jupyter-widgets/base",
          "model_module_version": "1.2.0",
          "model_name": "LayoutModel",
          "state": {
            "_model_module": "@jupyter-widgets/base",
            "_model_module_version": "1.2.0",
            "_model_name": "LayoutModel",
            "_view_count": null,
            "_view_module": "@jupyter-widgets/base",
            "_view_module_version": "1.2.0",
            "_view_name": "LayoutView",
            "align_content": null,
            "align_items": null,
            "align_self": null,
            "border": null,
            "bottom": null,
            "display": null,
            "flex": null,
            "flex_flow": null,
            "grid_area": null,
            "grid_auto_columns": null,
            "grid_auto_flow": null,
            "grid_auto_rows": null,
            "grid_column": null,
            "grid_gap": null,
            "grid_row": null,
            "grid_template_areas": null,
            "grid_template_columns": null,
            "grid_template_rows": null,
            "height": null,
            "justify_content": null,
            "justify_items": null,
            "left": null,
            "margin": null,
            "max_height": null,
            "max_width": null,
            "min_height": null,
            "min_width": null,
            "object_fit": null,
            "object_position": null,
            "order": null,
            "overflow": null,
            "overflow_x": null,
            "overflow_y": null,
            "padding": null,
            "right": null,
            "top": null,
            "visibility": null,
            "width": null
          }
        },
        "72ffc71b62444913b6ca2b70bfcebfc6": {
          "model_module": "@jupyter-widgets/controls",
          "model_module_version": "1.5.0",
          "model_name": "DescriptionStyleModel",
          "state": {
            "_model_module": "@jupyter-widgets/controls",
            "_model_module_version": "1.5.0",
            "_model_name": "DescriptionStyleModel",
            "_view_count": null,
            "_view_module": "@jupyter-widgets/base",
            "_view_module_version": "1.2.0",
            "_view_name": "StyleView",
            "description_width": ""
          }
        },
        "7ab9888193604786b6eb8a408cc9fac4": {
          "model_module": "@jupyter-widgets/controls",
          "model_module_version": "1.5.0",
          "model_name": "DescriptionStyleModel",
          "state": {
            "_model_module": "@jupyter-widgets/controls",
            "_model_module_version": "1.5.0",
            "_model_name": "DescriptionStyleModel",
            "_view_count": null,
            "_view_module": "@jupyter-widgets/base",
            "_view_module_version": "1.2.0",
            "_view_name": "StyleView",
            "description_width": ""
          }
        },
        "807ab4b2f62a4603bbc35bd85cad62c3": {
          "model_module": "@jupyter-widgets/controls",
          "model_module_version": "1.5.0",
          "model_name": "HTMLModel",
          "state": {
            "_dom_classes": [],
            "_model_module": "@jupyter-widgets/controls",
            "_model_module_version": "1.5.0",
            "_model_name": "HTMLModel",
            "_view_count": null,
            "_view_module": "@jupyter-widgets/controls",
            "_view_module_version": "1.5.0",
            "_view_name": "HTMLView",
            "description": "",
            "description_tooltip": null,
            "layout": "IPY_MODEL_31be088157a34b609d79cc33213b0ee7",
            "placeholder": "​",
            "style": "IPY_MODEL_54e1d2b87f2d4b3c9cf17bd1287aa5fc",
            "value": " 232k/232k [00:00&lt;00:00, 8.13MB/s]"
          }
        },
        "808761c1647c4a98a955fa22cf26d74d": {
          "model_module": "@jupyter-widgets/controls",
          "model_module_version": "1.5.0",
          "model_name": "HTMLModel",
          "state": {
            "_dom_classes": [],
            "_model_module": "@jupyter-widgets/controls",
            "_model_module_version": "1.5.0",
            "_model_name": "HTMLModel",
            "_view_count": null,
            "_view_module": "@jupyter-widgets/controls",
            "_view_module_version": "1.5.0",
            "_view_name": "HTMLView",
            "description": "",
            "description_tooltip": null,
            "layout": "IPY_MODEL_51801e48fb5c43e2b12868dde762ba16",
            "placeholder": "​",
            "style": "IPY_MODEL_4eac9e12adc240f288c4c6b8990bdd31",
            "value": " 483/483 [00:00&lt;00:00, 22.2kB/s]"
          }
        },
        "8500241d099447c99bc03146f33249fb": {
          "model_module": "@jupyter-widgets/controls",
          "model_module_version": "1.5.0",
          "model_name": "ProgressStyleModel",
          "state": {
            "_model_module": "@jupyter-widgets/controls",
            "_model_module_version": "1.5.0",
            "_model_name": "ProgressStyleModel",
            "_view_count": null,
            "_view_module": "@jupyter-widgets/base",
            "_view_module_version": "1.2.0",
            "_view_name": "StyleView",
            "bar_color": null,
            "description_width": ""
          }
        },
        "853fef953c2f4ed991f1d5dcf6ad7b7d": {
          "model_module": "@jupyter-widgets/base",
          "model_module_version": "1.2.0",
          "model_name": "LayoutModel",
          "state": {
            "_model_module": "@jupyter-widgets/base",
            "_model_module_version": "1.2.0",
            "_model_name": "LayoutModel",
            "_view_count": null,
            "_view_module": "@jupyter-widgets/base",
            "_view_module_version": "1.2.0",
            "_view_name": "LayoutView",
            "align_content": null,
            "align_items": null,
            "align_self": null,
            "border": null,
            "bottom": null,
            "display": null,
            "flex": null,
            "flex_flow": null,
            "grid_area": null,
            "grid_auto_columns": null,
            "grid_auto_flow": null,
            "grid_auto_rows": null,
            "grid_column": null,
            "grid_gap": null,
            "grid_row": null,
            "grid_template_areas": null,
            "grid_template_columns": null,
            "grid_template_rows": null,
            "height": null,
            "justify_content": null,
            "justify_items": null,
            "left": null,
            "margin": null,
            "max_height": null,
            "max_width": null,
            "min_height": null,
            "min_width": null,
            "object_fit": null,
            "object_position": null,
            "order": null,
            "overflow": null,
            "overflow_x": null,
            "overflow_y": null,
            "padding": null,
            "right": null,
            "top": null,
            "visibility": null,
            "width": null
          }
        },
        "88b492e4b9fb4db3b8a92a2d4b66c4be": {
          "model_module": "@jupyter-widgets/controls",
          "model_module_version": "1.5.0",
          "model_name": "HBoxModel",
          "state": {
            "_dom_classes": [],
            "_model_module": "@jupyter-widgets/controls",
            "_model_module_version": "1.5.0",
            "_model_name": "HBoxModel",
            "_view_count": null,
            "_view_module": "@jupyter-widgets/controls",
            "_view_module_version": "1.5.0",
            "_view_name": "HBoxView",
            "box_style": "",
            "children": [
              "IPY_MODEL_da07b96b32244fc6ac67f2790e901b09",
              "IPY_MODEL_d75518c9f28b4e00adbf346f5996ea86",
              "IPY_MODEL_ffd3d28e4fe34ccf941a9fc93915de06"
            ],
            "layout": "IPY_MODEL_4cbac6e3ba454dec95d7c1edec4889a0"
          }
        },
        "8930f4e8c24c48faa1bca15a69ec5b3a": {
          "model_module": "@jupyter-widgets/controls",
          "model_module_version": "1.5.0",
          "model_name": "FloatProgressModel",
          "state": {
            "_dom_classes": [],
            "_model_module": "@jupyter-widgets/controls",
            "_model_module_version": "1.5.0",
            "_model_name": "FloatProgressModel",
            "_view_count": null,
            "_view_module": "@jupyter-widgets/controls",
            "_view_module_version": "1.5.0",
            "_view_name": "ProgressView",
            "bar_style": "success",
            "description": "",
            "description_tooltip": null,
            "layout": "IPY_MODEL_91395e8adb5f4f5896df6dab449bcd6a",
            "max": 231508,
            "min": 0,
            "orientation": "horizontal",
            "style": "IPY_MODEL_8500241d099447c99bc03146f33249fb",
            "value": 231508
          }
        },
        "8d9be0bba7814604a3e375947a4b90b5": {
          "model_module": "@jupyter-widgets/controls",
          "model_module_version": "1.5.0",
          "model_name": "HBoxModel",
          "state": {
            "_dom_classes": [],
            "_model_module": "@jupyter-widgets/controls",
            "_model_module_version": "1.5.0",
            "_model_name": "HBoxModel",
            "_view_count": null,
            "_view_module": "@jupyter-widgets/controls",
            "_view_module_version": "1.5.0",
            "_view_name": "HBoxView",
            "box_style": "",
            "children": [
              "IPY_MODEL_28503591285e4cf4abfe01d23a35fbe8",
              "IPY_MODEL_8930f4e8c24c48faa1bca15a69ec5b3a",
              "IPY_MODEL_807ab4b2f62a4603bbc35bd85cad62c3"
            ],
            "layout": "IPY_MODEL_00615a5ede45425fb533bbdb48839ae6"
          }
        },
        "910e9d945746460fa4495a1d82b7c9ec": {
          "model_module": "@jupyter-widgets/base",
          "model_module_version": "1.2.0",
          "model_name": "LayoutModel",
          "state": {
            "_model_module": "@jupyter-widgets/base",
            "_model_module_version": "1.2.0",
            "_model_name": "LayoutModel",
            "_view_count": null,
            "_view_module": "@jupyter-widgets/base",
            "_view_module_version": "1.2.0",
            "_view_name": "LayoutView",
            "align_content": null,
            "align_items": null,
            "align_self": null,
            "border": null,
            "bottom": null,
            "display": null,
            "flex": null,
            "flex_flow": null,
            "grid_area": null,
            "grid_auto_columns": null,
            "grid_auto_flow": null,
            "grid_auto_rows": null,
            "grid_column": null,
            "grid_gap": null,
            "grid_row": null,
            "grid_template_areas": null,
            "grid_template_columns": null,
            "grid_template_rows": null,
            "height": null,
            "justify_content": null,
            "justify_items": null,
            "left": null,
            "margin": null,
            "max_height": null,
            "max_width": null,
            "min_height": null,
            "min_width": null,
            "object_fit": null,
            "object_position": null,
            "order": null,
            "overflow": null,
            "overflow_x": null,
            "overflow_y": null,
            "padding": null,
            "right": null,
            "top": null,
            "visibility": null,
            "width": null
          }
        },
        "91395e8adb5f4f5896df6dab449bcd6a": {
          "model_module": "@jupyter-widgets/base",
          "model_module_version": "1.2.0",
          "model_name": "LayoutModel",
          "state": {
            "_model_module": "@jupyter-widgets/base",
            "_model_module_version": "1.2.0",
            "_model_name": "LayoutModel",
            "_view_count": null,
            "_view_module": "@jupyter-widgets/base",
            "_view_module_version": "1.2.0",
            "_view_name": "LayoutView",
            "align_content": null,
            "align_items": null,
            "align_self": null,
            "border": null,
            "bottom": null,
            "display": null,
            "flex": null,
            "flex_flow": null,
            "grid_area": null,
            "grid_auto_columns": null,
            "grid_auto_flow": null,
            "grid_auto_rows": null,
            "grid_column": null,
            "grid_gap": null,
            "grid_row": null,
            "grid_template_areas": null,
            "grid_template_columns": null,
            "grid_template_rows": null,
            "height": null,
            "justify_content": null,
            "justify_items": null,
            "left": null,
            "margin": null,
            "max_height": null,
            "max_width": null,
            "min_height": null,
            "min_width": null,
            "object_fit": null,
            "object_position": null,
            "order": null,
            "overflow": null,
            "overflow_x": null,
            "overflow_y": null,
            "padding": null,
            "right": null,
            "top": null,
            "visibility": null,
            "width": null
          }
        },
        "97b1189188bd484ab12be5a10b916740": {
          "model_module": "@jupyter-widgets/base",
          "model_module_version": "1.2.0",
          "model_name": "LayoutModel",
          "state": {
            "_model_module": "@jupyter-widgets/base",
            "_model_module_version": "1.2.0",
            "_model_name": "LayoutModel",
            "_view_count": null,
            "_view_module": "@jupyter-widgets/base",
            "_view_module_version": "1.2.0",
            "_view_name": "LayoutView",
            "align_content": null,
            "align_items": null,
            "align_self": null,
            "border": null,
            "bottom": null,
            "display": null,
            "flex": null,
            "flex_flow": null,
            "grid_area": null,
            "grid_auto_columns": null,
            "grid_auto_flow": null,
            "grid_auto_rows": null,
            "grid_column": null,
            "grid_gap": null,
            "grid_row": null,
            "grid_template_areas": null,
            "grid_template_columns": null,
            "grid_template_rows": null,
            "height": null,
            "justify_content": null,
            "justify_items": null,
            "left": null,
            "margin": null,
            "max_height": null,
            "max_width": null,
            "min_height": null,
            "min_width": null,
            "object_fit": null,
            "object_position": null,
            "order": null,
            "overflow": null,
            "overflow_x": null,
            "overflow_y": null,
            "padding": null,
            "right": null,
            "top": null,
            "visibility": null,
            "width": null
          }
        },
        "9967428af9bb4fd28e50cc34cea21631": {
          "model_module": "@jupyter-widgets/controls",
          "model_module_version": "1.5.0",
          "model_name": "DescriptionStyleModel",
          "state": {
            "_model_module": "@jupyter-widgets/controls",
            "_model_module_version": "1.5.0",
            "_model_name": "DescriptionStyleModel",
            "_view_count": null,
            "_view_module": "@jupyter-widgets/base",
            "_view_module_version": "1.2.0",
            "_view_name": "StyleView",
            "description_width": ""
          }
        },
        "9f5e1fcf45ac4bfdbcb15aebe7fe97d0": {
          "model_module": "@jupyter-widgets/controls",
          "model_module_version": "1.5.0",
          "model_name": "HTMLModel",
          "state": {
            "_dom_classes": [],
            "_model_module": "@jupyter-widgets/controls",
            "_model_module_version": "1.5.0",
            "_model_name": "HTMLModel",
            "_view_count": null,
            "_view_module": "@jupyter-widgets/controls",
            "_view_module_version": "1.5.0",
            "_view_name": "HTMLView",
            "description": "",
            "description_tooltip": null,
            "layout": "IPY_MODEL_27a254d87eda4b088d9a8912fac08fe1",
            "placeholder": "​",
            "style": "IPY_MODEL_f40201d49e97464598adfdbc44e16d45",
            "value": " 466k/466k [00:00&lt;00:00, 5.70MB/s]"
          }
        },
        "a1665047e6cf456d9bc49dc4b8bccacc": {
          "model_module": "@jupyter-widgets/controls",
          "model_module_version": "1.5.0",
          "model_name": "DescriptionStyleModel",
          "state": {
            "_model_module": "@jupyter-widgets/controls",
            "_model_module_version": "1.5.0",
            "_model_name": "DescriptionStyleModel",
            "_view_count": null,
            "_view_module": "@jupyter-widgets/base",
            "_view_module_version": "1.2.0",
            "_view_name": "StyleView",
            "description_width": ""
          }
        },
        "b4f0fce29dc148c49e4cca83e5069833": {
          "model_module": "@jupyter-widgets/base",
          "model_module_version": "1.2.0",
          "model_name": "LayoutModel",
          "state": {
            "_model_module": "@jupyter-widgets/base",
            "_model_module_version": "1.2.0",
            "_model_name": "LayoutModel",
            "_view_count": null,
            "_view_module": "@jupyter-widgets/base",
            "_view_module_version": "1.2.0",
            "_view_name": "LayoutView",
            "align_content": null,
            "align_items": null,
            "align_self": null,
            "border": null,
            "bottom": null,
            "display": null,
            "flex": null,
            "flex_flow": null,
            "grid_area": null,
            "grid_auto_columns": null,
            "grid_auto_flow": null,
            "grid_auto_rows": null,
            "grid_column": null,
            "grid_gap": null,
            "grid_row": null,
            "grid_template_areas": null,
            "grid_template_columns": null,
            "grid_template_rows": null,
            "height": null,
            "justify_content": null,
            "justify_items": null,
            "left": null,
            "margin": null,
            "max_height": null,
            "max_width": null,
            "min_height": null,
            "min_width": null,
            "object_fit": null,
            "object_position": null,
            "order": null,
            "overflow": null,
            "overflow_x": null,
            "overflow_y": null,
            "padding": null,
            "right": null,
            "top": null,
            "visibility": null,
            "width": null
          }
        },
        "baf18078ce80474dbcf81d1fcb7b92c8": {
          "model_module": "@jupyter-widgets/base",
          "model_module_version": "1.2.0",
          "model_name": "LayoutModel",
          "state": {
            "_model_module": "@jupyter-widgets/base",
            "_model_module_version": "1.2.0",
            "_model_name": "LayoutModel",
            "_view_count": null,
            "_view_module": "@jupyter-widgets/base",
            "_view_module_version": "1.2.0",
            "_view_name": "LayoutView",
            "align_content": null,
            "align_items": null,
            "align_self": null,
            "border": null,
            "bottom": null,
            "display": null,
            "flex": null,
            "flex_flow": null,
            "grid_area": null,
            "grid_auto_columns": null,
            "grid_auto_flow": null,
            "grid_auto_rows": null,
            "grid_column": null,
            "grid_gap": null,
            "grid_row": null,
            "grid_template_areas": null,
            "grid_template_columns": null,
            "grid_template_rows": null,
            "height": null,
            "justify_content": null,
            "justify_items": null,
            "left": null,
            "margin": null,
            "max_height": null,
            "max_width": null,
            "min_height": null,
            "min_width": null,
            "object_fit": null,
            "object_position": null,
            "order": null,
            "overflow": null,
            "overflow_x": null,
            "overflow_y": null,
            "padding": null,
            "right": null,
            "top": null,
            "visibility": null,
            "width": null
          }
        },
        "bf4540da687440f9987eefbcabf06bf1": {
          "model_module": "@jupyter-widgets/base",
          "model_module_version": "1.2.0",
          "model_name": "LayoutModel",
          "state": {
            "_model_module": "@jupyter-widgets/base",
            "_model_module_version": "1.2.0",
            "_model_name": "LayoutModel",
            "_view_count": null,
            "_view_module": "@jupyter-widgets/base",
            "_view_module_version": "1.2.0",
            "_view_name": "LayoutView",
            "align_content": null,
            "align_items": null,
            "align_self": null,
            "border": null,
            "bottom": null,
            "display": null,
            "flex": null,
            "flex_flow": null,
            "grid_area": null,
            "grid_auto_columns": null,
            "grid_auto_flow": null,
            "grid_auto_rows": null,
            "grid_column": null,
            "grid_gap": null,
            "grid_row": null,
            "grid_template_areas": null,
            "grid_template_columns": null,
            "grid_template_rows": null,
            "height": null,
            "justify_content": null,
            "justify_items": null,
            "left": null,
            "margin": null,
            "max_height": null,
            "max_width": null,
            "min_height": null,
            "min_width": null,
            "object_fit": null,
            "object_position": null,
            "order": null,
            "overflow": null,
            "overflow_x": null,
            "overflow_y": null,
            "padding": null,
            "right": null,
            "top": null,
            "visibility": null,
            "width": null
          }
        },
        "c85e7f9bfcca48bdbc94ba07c6b89c0a": {
          "model_module": "@jupyter-widgets/base",
          "model_module_version": "1.2.0",
          "model_name": "LayoutModel",
          "state": {
            "_model_module": "@jupyter-widgets/base",
            "_model_module_version": "1.2.0",
            "_model_name": "LayoutModel",
            "_view_count": null,
            "_view_module": "@jupyter-widgets/base",
            "_view_module_version": "1.2.0",
            "_view_name": "LayoutView",
            "align_content": null,
            "align_items": null,
            "align_self": null,
            "border": null,
            "bottom": null,
            "display": null,
            "flex": null,
            "flex_flow": null,
            "grid_area": null,
            "grid_auto_columns": null,
            "grid_auto_flow": null,
            "grid_auto_rows": null,
            "grid_column": null,
            "grid_gap": null,
            "grid_row": null,
            "grid_template_areas": null,
            "grid_template_columns": null,
            "grid_template_rows": null,
            "height": null,
            "justify_content": null,
            "justify_items": null,
            "left": null,
            "margin": null,
            "max_height": null,
            "max_width": null,
            "min_height": null,
            "min_width": null,
            "object_fit": null,
            "object_position": null,
            "order": null,
            "overflow": null,
            "overflow_x": null,
            "overflow_y": null,
            "padding": null,
            "right": null,
            "top": null,
            "visibility": null,
            "width": null
          }
        },
        "c954e2e1edc541198a251859ca6bb042": {
          "model_module": "@jupyter-widgets/base",
          "model_module_version": "1.2.0",
          "model_name": "LayoutModel",
          "state": {
            "_model_module": "@jupyter-widgets/base",
            "_model_module_version": "1.2.0",
            "_model_name": "LayoutModel",
            "_view_count": null,
            "_view_module": "@jupyter-widgets/base",
            "_view_module_version": "1.2.0",
            "_view_name": "LayoutView",
            "align_content": null,
            "align_items": null,
            "align_self": null,
            "border": null,
            "bottom": null,
            "display": null,
            "flex": null,
            "flex_flow": null,
            "grid_area": null,
            "grid_auto_columns": null,
            "grid_auto_flow": null,
            "grid_auto_rows": null,
            "grid_column": null,
            "grid_gap": null,
            "grid_row": null,
            "grid_template_areas": null,
            "grid_template_columns": null,
            "grid_template_rows": null,
            "height": null,
            "justify_content": null,
            "justify_items": null,
            "left": null,
            "margin": null,
            "max_height": null,
            "max_width": null,
            "min_height": null,
            "min_width": null,
            "object_fit": null,
            "object_position": null,
            "order": null,
            "overflow": null,
            "overflow_x": null,
            "overflow_y": null,
            "padding": null,
            "right": null,
            "top": null,
            "visibility": null,
            "width": null
          }
        },
        "d75518c9f28b4e00adbf346f5996ea86": {
          "model_module": "@jupyter-widgets/controls",
          "model_module_version": "1.5.0",
          "model_name": "FloatProgressModel",
          "state": {
            "_dom_classes": [],
            "_model_module": "@jupyter-widgets/controls",
            "_model_module_version": "1.5.0",
            "_model_name": "FloatProgressModel",
            "_view_count": null,
            "_view_module": "@jupyter-widgets/controls",
            "_view_module_version": "1.5.0",
            "_view_name": "ProgressView",
            "bar_style": "success",
            "description": "",
            "description_tooltip": null,
            "layout": "IPY_MODEL_fe3fde2796f048f8b7401c61c4f89979",
            "max": 28,
            "min": 0,
            "orientation": "horizontal",
            "style": "IPY_MODEL_33cd36827dcb40fe87de6ec4fabdbb42",
            "value": 28
          }
        },
        "da07b96b32244fc6ac67f2790e901b09": {
          "model_module": "@jupyter-widgets/controls",
          "model_module_version": "1.5.0",
          "model_name": "HTMLModel",
          "state": {
            "_dom_classes": [],
            "_model_module": "@jupyter-widgets/controls",
            "_model_module_version": "1.5.0",
            "_model_name": "HTMLModel",
            "_view_count": null,
            "_view_module": "@jupyter-widgets/controls",
            "_view_module_version": "1.5.0",
            "_view_name": "HTMLView",
            "description": "",
            "description_tooltip": null,
            "layout": "IPY_MODEL_853fef953c2f4ed991f1d5dcf6ad7b7d",
            "placeholder": "​",
            "style": "IPY_MODEL_72ffc71b62444913b6ca2b70bfcebfc6",
            "value": "Downloading (…)okenizer_config.json: 100%"
          }
        },
        "e1afd3d5dbbc4170b41eadae06800820": {
          "model_module": "@jupyter-widgets/controls",
          "model_module_version": "1.5.0",
          "model_name": "HBoxModel",
          "state": {
            "_dom_classes": [],
            "_model_module": "@jupyter-widgets/controls",
            "_model_module_version": "1.5.0",
            "_model_name": "HBoxModel",
            "_view_count": null,
            "_view_module": "@jupyter-widgets/controls",
            "_view_module_version": "1.5.0",
            "_view_name": "HBoxView",
            "box_style": "",
            "children": [
              "IPY_MODEL_3ebaa684ff5144f0bfcde1072ebb75d1",
              "IPY_MODEL_5f4b8f45bc9948249f252e0b13593fe8",
              "IPY_MODEL_129aeb4ff29141c0a736b83ab93b0547"
            ],
            "layout": "IPY_MODEL_910e9d945746460fa4495a1d82b7c9ec"
          }
        },
        "e6ac3a8dcfb24e2d976dbffa13c83d5c": {
          "model_module": "@jupyter-widgets/controls",
          "model_module_version": "1.5.0",
          "model_name": "FloatProgressModel",
          "state": {
            "_dom_classes": [],
            "_model_module": "@jupyter-widgets/controls",
            "_model_module_version": "1.5.0",
            "_model_name": "FloatProgressModel",
            "_view_count": null,
            "_view_module": "@jupyter-widgets/controls",
            "_view_module_version": "1.5.0",
            "_view_name": "ProgressView",
            "bar_style": "success",
            "description": "",
            "description_tooltip": null,
            "layout": "IPY_MODEL_5a62830364f247a6b50fa5cbe9c441a6",
            "max": 483,
            "min": 0,
            "orientation": "horizontal",
            "style": "IPY_MODEL_37aaf67f64e745279a385dc6a686ead7",
            "value": 483
          }
        },
        "ea3c99f9d29549c7b40bfbd256f27d63": {
          "model_module": "@jupyter-widgets/base",
          "model_module_version": "1.2.0",
          "model_name": "LayoutModel",
          "state": {
            "_model_module": "@jupyter-widgets/base",
            "_model_module_version": "1.2.0",
            "_model_name": "LayoutModel",
            "_view_count": null,
            "_view_module": "@jupyter-widgets/base",
            "_view_module_version": "1.2.0",
            "_view_name": "LayoutView",
            "align_content": null,
            "align_items": null,
            "align_self": null,
            "border": null,
            "bottom": null,
            "display": null,
            "flex": null,
            "flex_flow": null,
            "grid_area": null,
            "grid_auto_columns": null,
            "grid_auto_flow": null,
            "grid_auto_rows": null,
            "grid_column": null,
            "grid_gap": null,
            "grid_row": null,
            "grid_template_areas": null,
            "grid_template_columns": null,
            "grid_template_rows": null,
            "height": null,
            "justify_content": null,
            "justify_items": null,
            "left": null,
            "margin": null,
            "max_height": null,
            "max_width": null,
            "min_height": null,
            "min_width": null,
            "object_fit": null,
            "object_position": null,
            "order": null,
            "overflow": null,
            "overflow_x": null,
            "overflow_y": null,
            "padding": null,
            "right": null,
            "top": null,
            "visibility": null,
            "width": null
          }
        },
        "f32478be0b9440a4a16c90231b1a7adf": {
          "model_module": "@jupyter-widgets/controls",
          "model_module_version": "1.5.0",
          "model_name": "DescriptionStyleModel",
          "state": {
            "_model_module": "@jupyter-widgets/controls",
            "_model_module_version": "1.5.0",
            "_model_name": "DescriptionStyleModel",
            "_view_count": null,
            "_view_module": "@jupyter-widgets/base",
            "_view_module_version": "1.2.0",
            "_view_name": "StyleView",
            "description_width": ""
          }
        },
        "f40201d49e97464598adfdbc44e16d45": {
          "model_module": "@jupyter-widgets/controls",
          "model_module_version": "1.5.0",
          "model_name": "DescriptionStyleModel",
          "state": {
            "_model_module": "@jupyter-widgets/controls",
            "_model_module_version": "1.5.0",
            "_model_name": "DescriptionStyleModel",
            "_view_count": null,
            "_view_module": "@jupyter-widgets/base",
            "_view_module_version": "1.2.0",
            "_view_name": "StyleView",
            "description_width": ""
          }
        },
        "fe3fde2796f048f8b7401c61c4f89979": {
          "model_module": "@jupyter-widgets/base",
          "model_module_version": "1.2.0",
          "model_name": "LayoutModel",
          "state": {
            "_model_module": "@jupyter-widgets/base",
            "_model_module_version": "1.2.0",
            "_model_name": "LayoutModel",
            "_view_count": null,
            "_view_module": "@jupyter-widgets/base",
            "_view_module_version": "1.2.0",
            "_view_name": "LayoutView",
            "align_content": null,
            "align_items": null,
            "align_self": null,
            "border": null,
            "bottom": null,
            "display": null,
            "flex": null,
            "flex_flow": null,
            "grid_area": null,
            "grid_auto_columns": null,
            "grid_auto_flow": null,
            "grid_auto_rows": null,
            "grid_column": null,
            "grid_gap": null,
            "grid_row": null,
            "grid_template_areas": null,
            "grid_template_columns": null,
            "grid_template_rows": null,
            "height": null,
            "justify_content": null,
            "justify_items": null,
            "left": null,
            "margin": null,
            "max_height": null,
            "max_width": null,
            "min_height": null,
            "min_width": null,
            "object_fit": null,
            "object_position": null,
            "order": null,
            "overflow": null,
            "overflow_x": null,
            "overflow_y": null,
            "padding": null,
            "right": null,
            "top": null,
            "visibility": null,
            "width": null
          }
        },
        "ffd3d28e4fe34ccf941a9fc93915de06": {
          "model_module": "@jupyter-widgets/controls",
          "model_module_version": "1.5.0",
          "model_name": "HTMLModel",
          "state": {
            "_dom_classes": [],
            "_model_module": "@jupyter-widgets/controls",
            "_model_module_version": "1.5.0",
            "_model_name": "HTMLModel",
            "_view_count": null,
            "_view_module": "@jupyter-widgets/controls",
            "_view_module_version": "1.5.0",
            "_view_name": "HTMLView",
            "description": "",
            "description_tooltip": null,
            "layout": "IPY_MODEL_97b1189188bd484ab12be5a10b916740",
            "placeholder": "​",
            "style": "IPY_MODEL_9967428af9bb4fd28e50cc34cea21631",
            "value": " 28.0/28.0 [00:00&lt;00:00, 1.75kB/s]"
          }
        }
      }
    }
  },
  "nbformat": 4,
  "nbformat_minor": 5
}
