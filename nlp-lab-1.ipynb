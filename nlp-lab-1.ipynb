{
 "cells": [
  {
   "cell_type": "markdown",
   "metadata": {},
   "source": [
    "## Tokenizers\n",
    "\n",
    "Tokenizers split a text into a sequence of tokens. There are different ways of doing this.\n",
    "\n",
    "An intuitive first step towards a good tokenizer is one that simply splits a text into it's constituent words. \n",
    "\n",
    "#### TODO: \n",
    "- Implement a simple tokenizer that can tokenize by splitting a text on whitespaces. \n",
    "- Test it on a sample text"
   ]
  },
  {
   "cell_type": "code",
   "execution_count": 6,
   "metadata": {
    "colab": {
     "base_uri": "https://localhost:8080/",
     "height": 128
    },
    "id": "iOjQskMSRnbX",
    "outputId": "524f953c-3924-418c-ffcc-2cc6460e86db"
   },
   "outputs": [],
   "source": [
    "def simpletokenizer(text):\n",
    "    \"Split the text on whitespaces\"\n",
    "    return text"
   ]
  },
  {
   "cell_type": "markdown",
   "metadata": {},
   "source": [
    "### Test your tokenizers on this text"
   ]
  },
  {
   "cell_type": "code",
   "execution_count": 7,
   "metadata": {},
   "outputs": [
    {
     "data": {
      "text/plain": [
       "'På Grimön i den västra skärgården bodde för några år sedan en man och en hustru, som voro varandra mycket olika. \\nMannen, som var omkring femton år äldre än hustrun, hade aldrig varit annat än ful, trög och senfärdig och hade inte blivit bättre på gamla dar, hustrun åter hade alltid varit nätt och lätt, och hennes lilla vackra ansikte hade bibehållit sig så väl, att hon såg närapå lika bra ut vid femtio som vid tjugu. \\nDessa två makar sutto en vacker söndagskväll på en stor stenhäll, som stack upp ur marken alldeles utanför deras hus, och samspråkade i god ro. Mannen, som tyckte om att höra sin egen röst och lade sina ord väl, utbredde sig för hustrun över en artikel, som han just nyss hade läst i en tidning.\\nHustrun hörde på honom med inte alltför spänd uppmärksamhet. Ack, den Joel, den Joel, tänkte hon, att han kan få ut så mycken lärdom ur ett sådant där tidningsblad! Han har verkligen ett märkvärdigt gott huvud. Det är bara synd, att han inte är i stånd att göra något bruk av det för sin och min räkning, utan bara för andras.'"
      ]
     },
     "execution_count": 7,
     "metadata": {},
     "output_type": "execute_result"
    }
   ],
   "source": [
    "text = 'På Grimön i den västra skärgården bodde för några år sedan en man och en hustru, som voro varandra mycket olika. \\nMannen, som var omkring femton år äldre än hustrun, hade aldrig varit annat än ful, trög och senfärdig och hade inte blivit bättre på gamla dar, hustrun åter hade alltid varit nätt och lätt, och hennes lilla vackra ansikte hade bibehållit sig så väl, att hon såg närapå lika bra ut vid femtio som vid tjugu. \\nDessa två makar sutto en vacker söndagskväll på en stor stenhäll, som stack upp ur marken alldeles utanför deras hus, och samspråkade i god ro. Mannen, som tyckte om att höra sin egen röst och lade sina ord väl, utbredde sig för hustrun över en artikel, som han just nyss hade läst i en tidning.\\nHustrun hörde på honom med inte alltför spänd uppmärksamhet. Ack, den Joel, den Joel, tänkte hon, att han kan få ut så mycken lärdom ur ett sådant där tidningsblad! Han har verkligen ett märkvärdigt gott huvud. Det är bara synd, att han inte är i stånd att göra något bruk av det för sin och min räkning, utan bara för andras.'\n",
    "\n",
    "simpletokenizer(text)"
   ]
  },
  {
   "cell_type": "markdown",
   "metadata": {},
   "source": [
    "### What do you see?\n",
    "You should see a python list of words. If you look closely, you'll see there are some items in the list that aren't just one word. There are also special characters in some that we probably want to remove.\n",
    "\n",
    "We could of course try to just clean up all of the items in the list, but a more sophisticated way is to use regular expressions via pythons re module:\n",
    "\n",
    "Regex is a pattern matcher and using the re module looks like\n",
    "\n",
    "    re.function(regex, text)\n",
    "\n",
    "where regex is the regular expression and text the string you want to search for the pattern in. When using regexes in python, it's important to tell python that the regex is a 'raw string' by putting an 'r' before the string like this regex for finding sequences of whitespaces in text:\n",
    "\n",
    "    r'\\s+'\n",
    "\n",
    "#### TODO: \n",
    "- Implement a tokenizer that tokenizes and removes all special characters with the python regex module 're'\n",
    "    - Doc at: https://docs.python.org/3/howto/regex.html\n",
    "    - Try regular expressions at https://regex101.com/  \n",
    "    - Tip: There are different regexes that will solve the problem\n",
    "    - Tip: a word can be described as the letters between two word boundaries\n",
    "- Run the test to see that it works properly"
   ]
  },
  {
   "cell_type": "code",
   "execution_count": 8,
   "metadata": {},
   "outputs": [],
   "source": [
    "import re\n",
    "def regextokenizer(text):\n",
    "    \"\"\"This function should return a list of only words, without any special characters. \n",
    "    Fill in your regex pattern in the findall method\"\"\"\n",
    "    \n",
    "    return re.findall(r'regex_pattern', text)\n",
    "    "
   ]
  },
  {
   "cell_type": "markdown",
   "metadata": {},
   "source": [
    "### When you are done with your regextokenizer, run the cells below to check that it works properly"
   ]
  },
  {
   "cell_type": "code",
   "execution_count": 9,
   "metadata": {
    "colab": {
     "base_uri": "https://localhost:8080/"
    },
    "id": "jfzIXVYjghg8",
    "outputId": "0c154cf7-284c-44e5-c84a-e7ccb228a8eb"
   },
   "outputs": [
    {
     "name": "stdout",
     "output_type": "stream",
     "text": [
      "Your tokens have no special characters left!\n"
     ]
    }
   ],
   "source": [
    "def test_tokenizer(tokens):\n",
    "    assert isinstance(tokens, list), 'did not receive a list of tokens'\n",
    "    assert len(tokens) != 0, 'received empty list'\n",
    "    passed = 1\n",
    "    if any([',' in token for token in tokens]):\n",
    "        print('There are commas in your tokens. Make sure they are removed')\n",
    "        passed = 0\n",
    "    if any(['!' in token for token in tokens]):\n",
    "        print('There are excalmation points in your tokens. Make sure they are removed')\n",
    "        passed = 0\n",
    "    if any(['?' in token for token in tokens]):\n",
    "        print('There are question marks in your tokens. Make sure they are removed')\n",
    "        passed = 0\n",
    "    if any(['.' in token for token in tokens]):\n",
    "        print('There are periods in your tokens. Make sure they are removed')\n",
    "        passed = 0\n",
    "    if any(['\\n' in token for token in tokens]):\n",
    "        print(r'There are newlines(\\n) in your tokens. Make sure they are removed')\n",
    "        passed = 0\n",
    "    else:\n",
    "        print('Your tokens have no special characters left!')\n",
    "    return\n",
    "\n",
    "\n",
    "tokens = regextokenizer(text)\n",
    "test_tokenizer(tokens)"
   ]
  },
  {
   "cell_type": "markdown",
   "metadata": {},
   "source": [
    "# TF-IDF \n",
    "The TF-IDF or \"Term frequency inverse document frequency\" is a measure of how important a certain word is to a certain text. It can for example be used in a search engine to find documents/webpages that are relevant to your query.\n",
    "\n",
    "You can read more about TF-IDF\n",
    "- https://monkeylearn.com/blog/what-is-tf-idf/\n",
    "- https://en.wikipedia.org/wiki/Tf%E2%80%93idf\n",
    "\n",
    "Quick explanation:\n",
    "- TF[word] = nbr_occurances[word] / nbr_words_in_text\n",
    "- IDF[word] = log10 (nbr_documents / nbr_documents_that_contain_word)\n",
    "- TF-IDF[word]: TF[word] * IDF[word] \n",
    "\n",
    "\n",
    "Hints:\n",
    "- Use your tokenizer from before\n",
    "- Use a dictionary to count TF\n",
    "\n",
    "\n",
    "Run the cell below to read the texts by Selma Lagerlöf to a dictionary "
   ]
  },
  {
   "cell_type": "code",
   "execution_count": 10,
   "metadata": {},
   "outputs": [
    {
     "name": "stdout",
     "output_type": "stream",
     "text": [
      "Read books:\n",
      "  bannlyst\n",
      "  gosta\n",
      "  herrgard\n",
      "  jerusalem\n",
      "  kejsaren\n",
      "  marbacka\n",
      "  nils\n",
      "  osynliga\n",
      "  troll\n"
     ]
    }
   ],
   "source": [
    "from pathlib import Path\n",
    "\n",
    "selma_dir = Path('data/selma_lagerlof')\n",
    "files = [file for file in selma_dir.iterdir() if file.suffix == '.txt']\n",
    "texts = {}\n",
    "for file in files:\n",
    "    with open(file,'r') as f:\n",
    "        text = f.read()\n",
    "        texts[file.stem] = text\n",
    "\n",
    "print('Read books:')\n",
    "for title in texts.keys():\n",
    "    print(' ', title)"
   ]
  },
  {
   "cell_type": "markdown",
   "metadata": {},
   "source": [
    "### You now have a dictionary where the book title maps to the text. Now you have to calculate the TF and IDF\n",
    "\n",
    "\n",
    "### 1. TF\n",
    "\n",
    "#### TODO:\n",
    "- implement the function tf()\n",
    "    - You need to set the text to lowercase and tokenize it\n",
    "    - The function should return a dict like object"
   ]
  },
  {
   "cell_type": "code",
   "execution_count": 11,
   "metadata": {},
   "outputs": [],
   "source": [
    "from collections import Counter\n",
    "\n",
    "def tf(text):\n",
    "    # You need to tokenize the text. You can use a counter to count unique words\n",
    "    # Return a dictionary like object tf_dict[word] = nbr_occurances / nbr_words\n",
    "    \n",
    "    return tf_dict\n",
    "\n",
    "\n",
    "def tf_all_texts(texts):\n",
    "    # Returns a nested dictionary where master_tf['title'] returns the term frequency dictionary for the book 'title'\n",
    "    master_tf = {}\n",
    "    for title, text in texts.items():\n",
    "        master_tf[title] = tf(text)\n",
    "    \n",
    "    return master_tf\n",
    "\n",
    "master_tf = tf_all_texts(texts)"
   ]
  },
  {
   "cell_type": "markdown",
   "metadata": {},
   "source": [
    "### Try out your tf \n",
    "\n",
    "Acces the term frequency of a word in a book with \n",
    "\n",
    "    master_tf['title']['word']\n",
    "\n",
    "If it works correctly, the term frequency of 'nils' in 'nils' should be  0.0003979"
   ]
  },
  {
   "cell_type": "code",
   "execution_count": 13,
   "metadata": {},
   "outputs": [
    {
     "data": {
      "text/plain": [
       "0.0003979347689207908"
      ]
     },
     "execution_count": 13,
     "metadata": {},
     "output_type": "execute_result"
    }
   ],
   "source": [
    "master_tf['nils']['nils']\n",
    "        "
   ]
  },
  {
   "cell_type": "markdown",
   "metadata": {},
   "source": [
    "### IDF\n",
    "\n",
    "To create the IDF you need to know in how many documents a certain word exists. The IDF is then calculated as \n",
    "\n",
    "    IDF(word) = log10 (nbr_documents / nbr_documents_that_contain_word)\n",
    "\n",
    "#### TODO:\n",
    "- Complete the function idf()\n"
   ]
  },
  {
   "cell_type": "code",
   "execution_count": 14,
   "metadata": {},
   "outputs": [],
   "source": [
    "from numpy import log10\n",
    "\n",
    "def make_idf(master_tf):\n",
    "    word_in_nbr_docs = {} # vocabulary of words\n",
    "    nbr_docs = len(master_tf)\n",
    "    \n",
    "    # master_tf contains all the words from all the individual documents\n",
    "    for title, tf in master_tf.items():\n",
    "        \n",
    "        for word in tf.keys():\n",
    "        # We add the word to the vocabulary\n",
    "            try:\n",
    "                word_in_nbr_docs[word] += 1\n",
    "            except KeyError:\n",
    "                word_in_nbr_docs[word] = 1\n",
    "    \n",
    "    # word -> idf\n",
    "    word_to_idf = {}\n",
    "    \n",
    "    for word, counts in word_in_nbr_docs.items():\n",
    "        # Calculate the idf \n",
    "        word_to_idf[word] = None # Insert your code here\n",
    "        \n",
    "    \n",
    "    return word_to_idf   \n",
    "\n",
    "idf = make_idf(master_tf)"
   ]
  },
  {
   "cell_type": "markdown",
   "metadata": {},
   "source": [
    "### Try out your IDF\n",
    "\n",
    "If it works properly, idf['nils'] should be ~0.2553"
   ]
  },
  {
   "cell_type": "code",
   "execution_count": 33,
   "metadata": {},
   "outputs": [
    {
     "data": {
      "text/plain": [
       "0.10914446942506807"
      ]
     },
     "execution_count": 33,
     "metadata": {},
     "output_type": "execute_result"
    }
   ],
   "source": [
    "idf['ord']"
   ]
  },
  {
   "cell_type": "markdown",
   "metadata": {},
   "source": [
    "### Finally it's time to compute the TF-IDF from our TF and IDF values\n",
    "\n",
    "We want a nested dictionary so we can look up the TF-IDF for a certain word as tfidf[word][text]\n",
    "\n",
    "TODO:\n",
    "- implement make_tfidf()\n",
    "\n",
    "Hints:\n",
    "- It should have the same structure as the master_tf object. \n",
    "- You can iterate through the object and update the values\n"
   ]
  },
  {
   "cell_type": "code",
   "execution_count": 24,
   "metadata": {},
   "outputs": [],
   "source": [
    "from copy import deepcopy\n",
    "\n",
    "def make_tfidf(master_tf, word_to_idf):\n",
    "    \n",
    "    # Use if you want. You need to go through the tfidf and update all the values\n",
    "    # tfidf = deepcopy(master_tf)\n",
    "    \n",
    "    # Fill in your code here    \n",
    "    \n",
    "    return tfidf\n",
    "\n",
    "tfidf = make_tfidf(master_tf, idf)"
   ]
  },
  {
   "cell_type": "markdown",
   "metadata": {},
   "source": [
    "## Testing your TF-IDF\n",
    "\n",
    "You now have a TF-IDF table that you can use to get values from different texts. Use it to compare the values of different words between the different texts.\n",
    "\n",
    "\n",
    "#### TODO:\n",
    "- Look at some tfidf values. What conclusions can you draw from your results?\n",
    "    Here's a list of words you can try:\n",
    "    + nils\n",
    "    + och\n",
    "    + värmland\n",
    "    + troll\n",
    "    + pojke\n",
    "- Use the function k_most_specific_words to get a list of the words with the largest tfidf values for the different texts\n",
    "\n",
    "    \n"
   ]
  },
  {
   "cell_type": "code",
   "execution_count": 2,
   "metadata": {},
   "outputs": [],
   "source": [
    "tfidf[title][word]"
   ]
  },
  {
   "cell_type": "markdown",
   "metadata": {},
   "source": [
    "#### TODO:\n",
    "\n",
    "- Find the words with the highest tfidf values in the texts. Do they make sense?"
   ]
  },
  {
   "cell_type": "code",
   "execution_count": 20,
   "metadata": {},
   "outputs": [],
   "source": [
    "from numpy import argmax\n",
    "\n",
    "def k_most_specific_words(title, k):\n",
    "    c = Counter(tfidf[title])\n",
    "    return c.most_common(k)\n",
    "    \n",
    "    "
   ]
  },
  {
   "cell_type": "code",
   "execution_count": 32,
   "metadata": {},
   "outputs": [
    {
     "data": {
      "text/plain": [
       "[('gösta', 0.0023065985184732123),\n",
       " ('grevinnan', 0.0011532992592366061),\n",
       " ('berling', 0.0009610827160305051),\n",
       " ('av', 0.0009559100089808572),\n",
       " ('kavaljererna', 0.0008750911045961968),\n",
       " ('ekeby', 0.0007745309994395594),\n",
       " ('marianne', 0.0006525245808838692),\n",
       " ('majorskan', 0.0006281022588770182),\n",
       " ('över', 0.0004580930370182358),\n",
       " ('sintram', 0.0003894914164965731)]"
      ]
     },
     "execution_count": 32,
     "metadata": {},
     "output_type": "execute_result"
    }
   ],
   "source": [
    "k_most_specific_words('gosta', 10)"
   ]
  },
  {
   "cell_type": "markdown",
   "metadata": {},
   "source": [
    "# Word embeddings\n",
    "\n",
    "To become familiar with word embeddings we'll use the gensim library. We'll download pretrained word2vec embeddings trained on google news.\n",
    "\n",
    "The gensim library provides functions for playing around with the word embeddings such as comparing how similar two words are, listing the most similar words and more\n",
    "\n",
    "##### TODO:\n",
    "\n",
    "Play around with the different functions and get a feel for how you can query a word"
   ]
  },
  {
   "cell_type": "code",
   "execution_count": 46,
   "metadata": {
    "id": "RyNPTG1kgqoG"
   },
   "outputs": [],
   "source": [
    "import gensim\n",
    "import gensim.downloader as api\n",
    "wv = api.load('word2vec-google-news-300') "
   ]
  },
  {
   "cell_type": "markdown",
   "metadata": {
    "id": "SXTmeyw7i1iK"
   },
   "source": [
    "### How similar are two words\n",
    "\n",
    "Which companies have the highest pairwise similarity according to the word embeddings: Google, Facebook, Apple and Microsoft? Compare them and see!\n",
    "\n",
    "Tip: use itertools to construct all of the combinations so you don't have to do it manually"
   ]
  },
  {
   "cell_type": "code",
   "execution_count": 37,
   "metadata": {
    "colab": {
     "base_uri": "https://localhost:8080/"
    },
    "id": "j0E70idNk-07",
    "outputId": "63e799a4-261f-4f78-f7b8-be76696f34fd"
   },
   "outputs": [
    {
     "name": "stdout",
     "output_type": "stream",
     "text": [
      "Similarity between google and facebook is 0.5005902647972107\n"
     ]
    }
   ],
   "source": [
    "import itertools\n",
    "companies = ['google', 'facebook', 'microsoft', 'apple']\n",
    "combinations = None\n",
    "\n",
    "word1 = 'google'\n",
    "word2 = 'facebook'\n",
    "\n",
    "print(f'Similarity between {word1} and {word2} is {wv.similarity(word1,word2)}')"
   ]
  },
  {
   "cell_type": "markdown",
   "metadata": {
    "id": "Cx9J1Rybk_if"
   },
   "source": [
    "### List the most similar words\n",
    "\n",
    "We can query the most similar words to a certain word. Do you think they are reasonable?"
   ]
  },
  {
   "cell_type": "code",
   "execution_count": 38,
   "metadata": {},
   "outputs": [
    {
     "data": {
      "text/plain": [
       "[('google.com', 0.6711485981941223),\n",
       " ('google_yahoo', 0.6488178968429565),\n",
       " ('wikipedia', 0.6436079740524292),\n",
       " ('www.google.com', 0.6258558630943298),\n",
       " ('googled', 0.6166062951087952),\n",
       " ('googling', 0.6086059212684631),\n",
       " ('slashdot', 0.5964587926864624),\n",
       " ('lifehacker', 0.5948860049247742),\n",
       " ('gizmodo', 0.5884420275688171),\n",
       " ('inurl', 0.5882638096809387)]"
      ]
     },
     "execution_count": 38,
     "metadata": {},
     "output_type": "execute_result"
    }
   ],
   "source": [
    "word = 'google'\n",
    "wv.similar_by_word(word, topn=10)"
   ]
  },
  {
   "cell_type": "markdown",
   "metadata": {},
   "source": [
    "### Similar to X like Y to Z\n",
    "\n",
    "We can query that a word should be positively similar to certain words, but not similar to other words. \n",
    "\n",
    "We can use this to query an answer to the following question:\n",
    "\"A king is to a man what a woman is to a ...\"\n",
    "\n",
    "Can you find other examples where a word should be similar to certain words but not to other to find the answer you're looking for?"
   ]
  },
  {
   "cell_type": "code",
   "execution_count": 39,
   "metadata": {},
   "outputs": [
    {
     "data": {
      "text/plain": [
       "[('woman', 0.7609436511993408)]"
      ]
     },
     "execution_count": 39,
     "metadata": {},
     "output_type": "execute_result"
    }
   ],
   "source": [
    "wv.most_similar(positive=[\"man\", \"queen\"], negative=[\"king\"], topn=1)"
   ]
  },
  {
   "cell_type": "markdown",
   "metadata": {},
   "source": [
    "### You can also try to use basic linear math operators to construct a vector and check what word it is closest to"
   ]
  },
  {
   "cell_type": "code",
   "execution_count": 40,
   "metadata": {},
   "outputs": [
    {
     "data": {
      "text/plain": [
       "[('tiger', 0.8426185846328735),\n",
       " ('tigers', 0.6714946031570435),\n",
       " ('dog', 0.574916660785675),\n",
       " ('elephants', 0.5681689381599426),\n",
       " ('elephant', 0.5566478371620178)]"
      ]
     },
     "execution_count": 40,
     "metadata": {},
     "output_type": "execute_result"
    }
   ],
   "source": [
    "new_word = wv['tiger'] - wv['cat'] + wv['dog']\n",
    "wv.most_similar(positive=[new_word], topn=5)"
   ]
  },
  {
   "cell_type": "markdown",
   "metadata": {},
   "source": [
    "### Similar to X but not Y\n",
    "\n",
    "Some words are ambiguous - Apple can be both a tech company and a fruit. What if you want to find similar words to just the fruit? Or just the company? With the 'negative' argument you can specify a word you don't want it to be similar to.\n",
    "\n",
    "Can you find other examples of ambiguous words?"
   ]
  },
  {
   "cell_type": "code",
   "execution_count": 43,
   "metadata": {},
   "outputs": [
    {
     "data": {
      "text/plain": [
       "[('jta', 0.6132248640060425),\n",
       " (\"o'brien\", 0.6043553948402405),\n",
       " ('whitney', 0.6021254658699036),\n",
       " ('rodney', 0.5938031077384949),\n",
       " ('curtis', 0.5878811478614807),\n",
       " ('alexander', 0.587669312953949),\n",
       " ('jonny', 0.5851280689239502),\n",
       " ('quinn', 0.5809890627861023),\n",
       " ('craig', 0.5809204578399658),\n",
       " ('dave', 0.5806783437728882)]"
      ]
     },
     "execution_count": 43,
     "metadata": {},
     "output_type": "execute_result"
    }
   ],
   "source": [
    "wv.most_similar(positive=[\"apple\"], negative=[\"fruit\", 'company'], topn=10)"
   ]
  },
  {
   "cell_type": "markdown",
   "metadata": {},
   "source": [
    "### Find the odd one out"
   ]
  },
  {
   "cell_type": "code",
   "execution_count": 26,
   "metadata": {},
   "outputs": [
    {
     "name": "stdout",
     "output_type": "stream",
     "text": [
      "bear\n"
     ]
    }
   ],
   "source": [
    "words = \"apple pear fruit bear \" # Separate the words by a space\n",
    "print(wv.doesnt_match(words.split()))"
   ]
  },
  {
   "cell_type": "markdown",
   "metadata": {},
   "source": [
    "## Plot embeddings\n",
    "\n",
    "The embeddings we've used have the dimension 300, i.e. every word is represented by 300 values. In a mathematical sense, they exist in an \"abstract room\" with 300 dimensions. It's in this room that we compare how similar words are by computing distances and angles between words.\n",
    "\n",
    "Obviously we can't visualise something in 300 dimensions. But there are mathematical tricks for reducing the dimensions that we can use to then plot the points in 2D(or 3D). Here we'll use an algorithm called TSNE to plot words similar to a target word."
   ]
  },
  {
   "cell_type": "code",
   "execution_count": 44,
   "metadata": {},
   "outputs": [
    {
     "name": "stderr",
     "output_type": "stream",
     "text": [
      "C:\\Users\\AlexanderHagelborn\\Miniconda3\\envs\\testenv\\lib\\site-packages\\scikit_learn-0.24.1-py3.8-win-amd64.egg\\sklearn\\manifold\\_t_sne.py:691: FutureWarning: 'square_distances' has been introduced in 0.24 to help phase out legacy squaring behavior. The 'legacy' setting will be removed in 1.1 (renaming of 0.26), and the default setting will be changed to True. In 1.3, 'square_distances' will be removed altogether, and distances will be squared by default. Set 'square_distances'=True to silence this warning.\n",
      "  warnings.warn(\n"
     ]
    }
   ],
   "source": [
    "import pandas as pd\n",
    "import matplotlib\n",
    "import matplotlib.pyplot as plt\n",
    "\n",
    "from sklearn.manifold import TSNE\n",
    "\n",
    "target_word = \"mario\"\n",
    "selected_words = [w[0] for w in wv.most_similar(positive=[target_word], topn=50)] + [target_word]\n",
    "embeddings = [wv[w] for w in selected_words] + wv[target_word]\n",
    "\n",
    "mapped_embeddings = TSNE(n_components=2, metric='cosine', init='pca').fit_transform(embeddings)"
   ]
  },
  {
   "cell_type": "code",
   "execution_count": 45,
   "metadata": {},
   "outputs": [
    {
     "data": {
      "image/png": "[encoded data removed]",
      "text/plain": [
       "<Figure size 1440x1440 with 1 Axes>"
      ]
     },
     "metadata": {
      "needs_background": "light"
     },
     "output_type": "display_data"
    }
   ],
   "source": [
    "plt.figure(figsize=(20,20))\n",
    "x = mapped_embeddings[:,0]\n",
    "y = mapped_embeddings[:,1]\n",
    "plt.scatter(x, y)\n",
    "\n",
    "for i, txt in enumerate(selected_words):\n",
    "    plt.annotate(txt, (x[i], y[i]))"
   ]
  },
  {
   "cell_type": "code",
   "execution_count": null,
   "metadata": {},
   "outputs": [],
   "source": []
  }
 ],
 "metadata": {
  "colab": {
   "name": "Untitled0.ipynb",
   "provenance": []
  },
  "kernelspec": {
   "display_name": "nbi",
   "language": "python",
   "name": "nbi"
  },
  "language_info": {
   "codemirror_mode": {
    "name": "ipython",
    "version": 3
   },
   "file_extension": ".py",
   "mimetype": "text/x-python",
   "name": "python",
   "nbconvert_exporter": "python",
   "pygments_lexer": "ipython3",
   "version": "3.8.5"
  }
 },
 "nbformat": 4,
 "nbformat_minor": 1
}
